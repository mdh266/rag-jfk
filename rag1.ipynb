{
 "cells": [
  {
   "cell_type": "code",
   "execution_count": 1,
   "metadata": {},
   "outputs": [
    {
     "data": {
      "text/plain": [
       "True"
      ]
     },
     "execution_count": 1,
     "metadata": {},
     "output_type": "execute_result"
    }
   ],
   "source": [
    "from dotenv import load_dotenv\n",
    "load_dotenv()"
   ]
  },
  {
   "cell_type": "code",
   "execution_count": 11,
   "metadata": {},
   "outputs": [],
   "source": [
    "from google.oauth2 import service_account\n",
    "from langchain_google_community.gcs_file import GCSFileLoader\n",
    "from langchain.document_loaders import TextLoader\n",
    "import os"
   ]
  },
  {
   "cell_type": "code",
   "execution_count": 7,
   "metadata": {},
   "outputs": [],
   "source": [
    "\n",
    "credentials = service_account.Credentials.from_service_account_file('credentials.json')\n",
    "\n",
    "os.environ[\"GOOGLE_APPLICATION_CREDENTIALS\"] = \"credentials.json\""
   ]
  },
  {
   "cell_type": "code",
   "execution_count": 12,
   "metadata": {},
   "outputs": [],
   "source": [
    "def load_text(file_path):\n",
    "    return TextLoader(file_path)"
   ]
  },
  {
   "cell_type": "code",
   "execution_count": 20,
   "metadata": {},
   "outputs": [],
   "source": [
    "loader = GCSFileLoader(project_name=credentials.project_id,\n",
    "                       bucket=\"harmon-kennedy\",\n",
    "                       blob=\"1st-nixon-kennedy-debate-19600926.txt\",\n",
    "                       loader_func=load_text)"
   ]
  },
  {
   "cell_type": "code",
   "execution_count": 33,
   "metadata": {},
   "outputs": [],
   "source": [
    "documents = loader.load()"
   ]
  },
  {
   "cell_type": "code",
   "execution_count": 34,
   "metadata": {},
   "outputs": [
    {
     "name": "stdout",
     "output_type": "stream",
     "text": [
      "\n",
      "[Text, format, and style are as published in Freedom of Communications: Final Report of the Committee on Commerce, United States Senate..., Part III: The Joint Appearances of Senator John F. Kennedy and Vice President Richard M. Nixon and Other 1960 Campaign Presentations. 87th Congress, 1st Session, Senate Report No. 994, Part 3. Washington: U.S. Government Printing Office, 1961.]\n",
      "Monday, September 26, 1960\n",
      "Originating CBS, Chicago, Ill., All Networks carried.\n",
      "Moderator, Howard K. Smith.\n",
      "MR. SMITH: Good evening.\n",
      "The television and radio stations of the United States and their affiliated stations are proud to provide facilities for a discussion of issues in the current political campaign by the two major candidates for the presidency.\n",
      "The candidates need no introduction. The Republican candidate, Vice President Richard M. Nixon, and the Democratic candidate, Senator John F. Kennedy.\n",
      "According to rules set by the candidates themselves, each man shall make an opening statement of approximately 8 minutes' duration and a closing statement of approximately three minutes' duration.\n",
      "In between the candidates will answer, or comment upon answers to questions put by a panel of correspondents.\n",
      "In this, the first discussion in a series of four joint appearances, the subject matter, it has been agreed, will be restricted to internal or domestic American matters.\n",
      "And now, for the first opening statement by Senator John F. Kennedy.\n",
      "MR. KENNEDY: Mr. Smith, Mr. Nixon.\n",
      "In the election of 1860, Abraham Lincoln said the question was whether this Nation could exist half slave or half free.\n",
      "In the election of 1960, and with the world around us, the question is whether the world will exist half slave or half free, whether it will move in the direction of freedom, in the direction of the road that we are taking, or whether it will move in the direction of slavery.\n",
      "I think it will depend in great measure upon what we do here in the United States, on the kind of society that we build, on the kind of strength that we maintain.\n",
      "We discuss tonight domestic issues, but I would not want that to be-- any implication to be given that this does not involve directly our struggle with Mr. Khrushchev for survival.\n",
      "Mr. Khrushchev is in New York, and he maintains the Communist offensive throughout the world because of the productive power of the Soviet Union, itself.\n",
      "The Chinese Communists have always had a large population but they are important and dangerous now because they are mounting a major effort within their own country; the kind of country we have here, the kind of society we have, the kind of strength we build in the United States will be the defense of freedom.\n",
      "If we do well here, if we meet our obligations, if we are moving ahead, then I think freedom will be secure around the world. If we fail, then freedom fails.\n",
      "Therefore, I think the question before the American people is: Are we doing as much as we can do? Are we as strong as we should be? Are we as strong as we must be if we are going to maintain our independence, and if we're going to maintain and hold out the hand of friendship to those who look to us for assistance, to those who look to us for survival? I should make it very clear that I do not think we're doing enough, that I am not satisfied as an American with the progress that we are making.\n",
      "This is a great country, but I think it could be a greater country; and this is a powerful country but I think it could be a more powerful country.\n",
      "I'm not satisfied to have 50 percent of our steel-mill capacity unused.\n",
      "I'm not satisfied when the United States had last year the lowest rate of economic growth of any major industrialized society in the world--because economic growth means strength and vitality. It means we're able to sustain our defenses; it means we're able to meet our commitments abroad.\n",
      "I'm not satisfied, when we have over $9 billion dollars worth of food, some of it rotting even though there is a hungry world and even though 4 million Americans wait every month for a food package from the Government, which averages 5 cents a day per individual.\n",
      "I saw cases in West Virginia, here in the United States, where children took home part of their school lunch in order to feed their families because I don't think we're meeting our obligations toward these Americans.\n",
      "I'm not satisfied when the Soviet Union is turning out twice as many scientists and engineers as we are.\n",
      "I'm not satisfied when many of our teachers are inadequately paid, or when our children go to school part-time shifts. I think we should have an educational system second to none.\n",
      "I'm not satisfied when I see men like Jimmy Hoffa, in charge of the largest union in the United States, still free.\n",
      "I'm not satisfied when we are failing to develop the natural resources of the United States to the fullest. Here in the United States, which developed the Tennessee Valley and which built the Grand Coulee and the other dams in the Northwest United States, at the present rate of hydropower production--and that is the hallmark of an industrialized society--the Soviet Union by 1975 will be producing more power than we are.\n",
      "These are all the things I think in this country that can make our society strong, or can mean that it stands still.\n",
      "I'm not satisfied until every American enjoys his full constitutional rights. If a Negro baby is born, and this is true also of Puerto Ricans and Mexicans in some of our cities, he has about one-half as much chance to get through high school as a white baby. He has one-third as much chance to get through college as a white student. He has about a third as much chance to be a professional man, and about half as much chance to own a house. He has about four times as much chance that he'll be out of work in his life as the white baby. I think we can do better. I don't want the talents of any American to go to waste.\n",
      "I know that there are those who want to turn everything over to the Government. I don't at all. I want the individuals to meet their responsibilities and I want the States to meet their responsibilities. But I think there is also a national responsibility.\n",
      "The argument has been used against every piece of social legislation in the last 25 years. The people of the United States individually could not have developed the Tennessee Valley; collectively they could have.\n",
      "A cotton farmer in Georgia, or a peanut farmer or a dairy farmer in Wisconsin and Minnesota-- he cannot protect himself against the forces of supply and demand in the marketplace, but working together in effective governmental programs he can do so.\n",
      "Seventeen million Americans, who live over 65 on an average social security check of about $78 a month--they're not able to sustain themselves individually, but they can sustain themselves through the social security system.\n",
      "I don't believe in big government, but I believe in effective governmental action, and I think that's the only way that the United States is going to maintain its freedom; it's the only way that we're going to move ahead. I think we can do a better job. I think we're going to have to do a better job if we are going to meet the responsibilities which time and events have placed upon us.\n",
      "We cannot turn the job over to anyone else. If the United States fails, then the whole cause of freedom fails, and I think it depends in great measure on what we do here in this country.\n",
      "The reason Franklin Roosevelt was a good neighbor in Latin America was because he was a good neighbor in the United States, because they felt that the American society was moving again. I want us to recapture that image. I want people in Latin America and Africa and Asia to start to look to America to see how we're doing things, to wonder what the President of the United States is doing, and not to look at Khrushchev, or look at the Chinese Communists. That is the obligation upon our generation.\n",
      "In 1933, Franklin Roosevelt said in his inaugural that this generation of Americans has a \"rendezvous with destiny.\" I think our generation of Americans has the same \"rendezvous.\" The question now is: Can freedom be maintained under the most severe attack it has ever known? I think it can be. And I think in the final analysis it depends upon what we do here. I think it's time America started moving again.\n",
      "MR. SMITH: And now the opening statement by Vice President Richard M. Nixon.\n",
      "MR. NIXON: Mr. Smith, Senator Kennedy. The things that Senator Kennedy has said many of us can agree with. There is no question but that we cannot discuss our internal affairs in the United States without recognizing that they have a tremendous bearing on our international position. There is no question but that this nation cannot stand still, because we are in a deadly competition, a competition not only with the men in the Kremlin, but the men in Peking. We're ahead in this competition, as Senator Kennedy, I think, has implied. But when you're in a race, the only way to stay ahead is to move ahead, and I subscribe completely to the spirit that Senator Kennedy has expressed tonight, the spirit that the United States should move ahead.\n",
      "Where then do we disagree?\n",
      "I think we disagree on the implication of his remarks tonight and on the statements that he has made on many occasions during his campaign to the effect that the United States has been standing still.\n",
      "We heard tonight, for example, the statement made that our growth and national product last year was the lowest of any industrial nation in the world.\n",
      "Now last year, of course, was 1958. That happened to be a recession year, but when we look at the growth of GNP this year--a year of recovery--we find that it's 6 9/10 per cent and one of the highest in the world today. More about that later.\n",
      "Looking then to this problem of how the United States should move ahead and where the United States is moving, I think it is well that we take the advice of a very famous campaigner, \"Let's look at the record.\"\n",
      "Is the United States standing still?\n",
      "Is it true that this administration, as Senator Kennedy has charged, has been an administration of retreat, of defeat, of stagnation?\n",
      "Is it true that, as far as this country is concerned, in the field of electric power, and all of the fields that he has mentioned, we have not been moving ahead?\n",
      "Well, we have a comparison that we can make. We have the record of the Truman administration of 7 years, and the 7 years of the Eisenhower administration.\n",
      "When we compare these two records in the areas that Senator Kennedy has discussed tonight, I think we find that America has been moving ahead.\n",
      "Let's take schools. We have built more schools in these 7 years than we built in the previous 7, for that matter in the previous 20 years.\n",
      "Let's take hydroelectric power. We have developed more hydroelectric power in these 7 years than was developed in any previous administration in history.\n",
      "Let us take hospitals. We find that more have been built in this administration than in the previous administration. The same is true of highways.\n",
      "Let's put it in terms that all of us can understand.\n",
      "We often hear gross national product discussed, and in that respect may I say that when we compare the growth in this administration with that of the previous administration, that then there was a total growth of 11 percent over 7 years; in this administration there has been a total growth of 19 percent over 7 years.\n",
      "That shows that there's been more growth in this administration than in its predecessor. But let's not put it there; let's put it in terms of the average family.\n",
      "What has happened to you?\n",
      "We find that your wages have gone up five times as much in the Eisenhower administration as they did in the Truman administration.\n",
      "What about the prices you pay?\n",
      "We find that the prices you pay went up five times as much in the Truman administration as they did in the Eisenhower administration.\n",
      "What's the net result of this?\n",
      "This means that the average family income went up 15 percent in the Eisenhower years as against 2 percent in the Truman years.\n",
      "Now, this is not standing still, but, good as this record is, may I emphasize it isn't enough.\n",
      "A record is never something to stand on, it's something to build on and in building on this record, I believe that we have the secret for progress.\n",
      "We know the way to progress and I think first of all our own record proves that we know the way.\n",
      "Senator Kennedy has suggested that he believes he knows the way.\n",
      "I respect the sincerity with he--which he makes that suggestion, but on the other hand, when we look at the various programs, that he offers, they do not seem to be new. They seem to be simply retreads of the programs of the Truman administration which preceded him and I would suggest that during the course of the evening he might indicate those areas in which his programs are new, where they will mean more progress than we had then.\n",
      "What kind of programs are we for?\n",
      "We are for programs that will expand educational opportunities, that will give to all Americans their equal chance for education, for all of the things which are necessary and dear to the hearts of our people.\n",
      "We are for programs, in addition, which will see that our medical care for the aged is much better handled than it is at the present time.\n",
      "Here again, may I indicate that Senator Kennedy and I are not in disagreement as to the aim. We both want to help the old people. We want to see that they do have adequate medical care. The question is the means.\n",
      "I think that the means that I advocate will reach that goal better than the means that he advocates.\n",
      "I could give better examples but for whatever it is, whether it's in the field of housing or health or medical care or schools, or the development of electric power, we have programs which we believe will move America, move her forward and build on the wonderful record that we have made over these past 7 years.\n",
      "Now, when we look at these programs might I suggest that in evaluating them we often have a tendency to say that the test of a program is how much you're spending. I will concede that in all the areas to which I have referred, Senator Kennedy would have the Federal Government spend more than I would have it spend.\n",
      "I costed out the cost of the Democratic platform. It runs a minimum of $13.2 billion a year more than we are presently spending to a maximum of $18 billion a year more than we're presently spending.\n",
      "Now the Republican platform will cost more too. It will cost a minimum of $4 billion a year more, a maximum of $4.9 billion a year more than we're presently spending.\n",
      "Now, does this mean that his program is better than ours?\n",
      "Not at all, because it isn't a question of how much the Federal Government spends. It isn't a question of which government does the most. It's a question of which administration does the right things, and in our case, I do believe that our programs will stimulate the creative energies of 180 million free Americans.\n",
      "I believe the programs that Senator Kennedy advocates will have a tendency to stifle those creative energies.\n",
      "I believe, in other words, that his programs would lead to the stagnation of the motive power that we need in this country to get progress.\n",
      "The final point that I would like to make is this: Senator Kennedy has suggested in his speeches that we lack compassion for the poor, for the old, and for others that are unfortunate.\n",
      "Let us understand throughout this campaign that his motives and mine are sincere. I know what it means to be poor. I know what it means to see people who are unemployed.\n",
      "I know Senator Kennedy feels as deeply about these problems as I do, but our disagreement is not about the goals for America but only about the means to reach those goals.\n",
      "MR. SMITH: Thank you, Mr. Nixon.\n",
      "That completes the opening statements, and now the candidates will answer questions or comment upon one another's answers to questions, put by correspondents of the networks.\n",
      "The correspondents:MR. VANOCUR: I'm Sander Vanocur, NBC News.MR. WARREN: I'm Charles Warren, Mutual News.\n",
      "MR. NOVINS: I'm Stuart Novins, CBS News.MR. FLEMING: Bob Fleming, ABC News\n",
      "MR. SMITH: The first question to Senator Kennedy from Mr. Fleming.\n",
      "MR. FLEMING: Senator, the Vice President in his campaign has said that you are naive and at times immature. He has raised the question of leadership.\n",
      "On this issue, why do you think people should vote for you rather than the Vice President?\n",
      "MR. KENNEDY: Well, the Vice President and I came to the Congress together in 1946.\n",
      "We both served in the Labor Committee. I've been there now for fourteen years, the same period of time that he has, so that our experience in government is comparable.\n",
      "Secondly, I think the question is \"What are the programs that we advocate?\"\n",
      "What is the party record that we lead?\n",
      "I come out of the Democratic party, which in this century has produced Woodrow Wilson and Franklin Roosevelt and Harry Truman, and which supported and sustained these programs which I've discussed tonight.\n",
      "Mr. Nixon comes out of the Republican party. He was nominated by it. And it is a fact that through most of these last 25 years the Republican leadership has opposed Federal aid for education, medical care for the aged, development of the Tennessee Valley, development of our natural resources.\n",
      "I think Mr. Nixon is an effective leader of his party. I hope he would grant me the same.\n",
      "The question before us is: Which point of view and which party do we want to lead the United States?\n",
      "MR. SMITH: Mr. Nixon, would you like to comment on that statement?\n",
      "MR. NIXON: I have no comment.\n",
      "MR. SMITH: The next question--Mr. Novins.\n",
      "MR. NOVINS: Mr. Vice President, your campaign stresses the value of your 8-year experience, and the question arises as to whether that experience was as an observer or as a participant or as an initiator of policymaking.\n",
      "Would you tell us, please, specifically what major proposals you have made in the last 8 years that have been adopted by the administration?\n",
      "MR. NIXON: It would be rather difficult to cover them in eight and--in two and a half minutes.\n",
      "I would suggest that these proposals could be mentioned:\n",
      "First, after each of my foreign trips, I have made recommendations that have been adopted.\n",
      "For example, after my first trip abroad, I strongly recommended that we increase our exchange programs particularly as they related to exchange of persons, of leaders in the labor field and in the information field.\n",
      "After my trip to South America, I made recommendations that a separate inter-American lending agency be set up which the South American nations would like much better than a lend--than to participate in the lending agencies which treated all the countries of the world the same.\n",
      "I have made other recommendations after each of the other trips.\n",
      "For example, after my trip abroad to Hungary, I made some recommendations with regard to the Hungarian refugee situation which were adopted, not only by the President but some of them were enacted into law by the Congress.\n",
      "Within the administration, as a chairman of the President's Committee on Price Stability and Economic Growth, I have had the opportunity to make recommendations which have been adopted within the Administration and which I think have been reasonably effective.\n",
      "I know Senator Kennedy suggested in his speech at Cleveland yesterday that that committee had not been particularly effective. I would only suggest that while we do not take the credit for it, I would not presume to, that since that committee has been formed, the price line has been held very well within the United States.\n",
      "MR. KENNEDY: Well, I would say in the latter that the--and that's what I found somewhat unsatisfactory about the figures, Mr. Nixon, that you used in your previous speech. When you talked about the Truman administration, you--Mr. Truman came to office in 1944, and at the end of the war, and the difficulties that were facing the United States during that period of transition, 1946, when price controls were lifted, so it's rather difficult to use an overall figure taking those 7 years and comparing them to the last 8 years. I prefer to take the overall percentage record of the last 20 years of the Democrats and the 8 years of the Republicans to show an overall period of growth.\n",
      "In regard to price stability, I'm not aware that that committee did produce recommendations that ever were, certainly, before the Congress from the point of view of legislation in regard to controlling prices. In regard to the exchange of students and labor unions, I am chairman of the subcommittee on Africa and I think that one of the most unfortunate phases of our policy towards that country was the very minute number of exchanges that we had. I think it's true of Latin America also. We did come forward with a program of students for the Congo of over 300, which was more than the Federal Government had for all of Africa the previous year.\n",
      "So that I don't think that we have moved at least in those two areas with sufficient vigor.\n",
      "MR. SMITH: The next question to Senator Kennedy from Mr. Warren.\n",
      "MR. WARREN: Senator Kennedy, during your brief speech a few minutes ago you mentioned farm surpluses.\n",
      "MR. KENNEDY: That's correct.\n",
      "MR. WARREN: I'd like to ask this: It's a fact, I think, that presidential candidates traditionally make promises to farmers. Lots of people, I think, don't understand why the Government pays farmers for not producing certain crops or paying farmers, if they overproduce for that matter. Now, let me ask, sir:\n",
      "Why can't the farmer operate like the businessman who operates a factory? If an auto company overproduces a certain model car Uncle Sam doesn't step in and buy up the surplus. Why this constant courting of the farmer?\n",
      "MR. KENNEDY: Well, because I think that if the Federal Government moved out of the program and withdrew its support, then I think you would have complete economic chaos. The farmer plants in the spring and harvests in the fall. There are hundreds of thousands of them. They really don't--are not able to control their market very well. They bring their crops in or their livestock in, many of them, about the same time. They have only a few purchasers that buy their milk or their hogs, a few large companies, in many cases, and, therefore, the farmer is not in a position to bargain very effectively in the marketplace.\n",
      "I think the experience of the 20's has shown what a free market could do to agriculture. And if the agricultural economy collapses, then the economy of the rest of the United States sooner or later will collapse.\n",
      "The farmers are the No. 1 market for the automobile industry of the United States. The automobile industry is the No. 1 market for steel. So, if the farmers' economy continues to decline as sharply as it has in recent years, then I think you would have a recession in the rest of the country.\n",
      "So I think the case for the Government intervention is a good one.\n",
      "Secondly, my objection to present farm policy is that there are no effective controls to bring supply and demand into better balance. The dropping of the support price in order to limit production has not worked, and we now have the highest surpluses, $9 billion worth, we've had a higher taxload from the Treasury for the farmer in the last few years with the lowest farm income in many years. I think that this farm policy has failed. In my judgment, the only policy that will work will be for effective supply and demand to be in balance, and that can only be done through governmental action.\n",
      "I, therefore suggest that in those basic commodities which are supported, that the Federal Government, after endorsement by the farmers in that commodity, attempt to bring supply and demand into balance, attempt effective production controls so that we won't have that 5 or 6 percent surplus which breaks the price 15 or 20 percent.\n",
      "I think Mr. Benson's program has failed, and I must say, after reading the Vice President's speech before the farmers, as he read mine, I don't believe that it's very much different from Mr. Benson's. I don't think it provides effective governmental controls. I think the support prices are tied to the average market price of the last 3 years, which was Mr. Benson's theory. I, therefore, do not believe that this is a sharp enough breach with the past to give us any hope of success for the future.\n",
      "MR. SMITH: Mr. Nixon, comment?\n",
      "MR. NIXON: I of course, disagree with Senator Kennedy insofar as his suggestion as to what should be done with re--on the farm program.\n",
      "He has made the suggestion that what we need is to move in the direction of more government controls, a suggestion that would also mean raising prices that the consumers pay for products and imposing upon the farmers controls on acreage even far more than they have today.\n",
      "I think this is the wrong direction. I don't think this has worked in the past; I do not think it will work in the future.\n",
      "The program that I have advocated is one which departs from the present program that we have in this respect.\n",
      " \n",
      "It recognizes that the Government has a responsibility to get the farmer out of the trouble he presently is in because the Government got him into it, and that's the fundamental reason why we can't let the farmer go by himself at the present time. The farmer produced these surpluses because the government asked him to, through legislation during the war.\n",
      "Now that we have these surpluses, it's our responsibility to indemnify the farmer during that period that we get rid of the farmer--the surpluses. Until we get the surpluses off the farmer's back, however, we should have a program, such as I announced, which will see that farm income holds up. But I would propose holding that income up, not through a type of program that Senator Kennedy has suggested that would raise prices, but one that would indemnify the farmer, pay the farmer in kind from the products which are in surplus.\n",
      "MR. SMITH: The next question to Vice President Nixon from Mr. Vanocur.\n",
      "MR. VANOCUR: Mr. Vice President, since the question of executive leadership is a very important campaign issue, I would like to follow Mr. Novins' question.\n",
      "Now, Republican campaign slogans--you'll see them on signs around the country as we did last week--say it's experience that counts (that's over a picture of yourself; sir), implying that you've had more governmental, executive decisionmaking experience than your opponent.\n",
      "Now, in his news conference on August 24, President Eisenhower was asked to give one example of a major idea of yours that he adopted. His reply was, and I'm quoting: \"If you give me a week, I might think of one. I don't remember.\"\n",
      "Now that was a month ago, sir, and the President hasn't brought it up since, and I am wondering, sir, if you can clarify which version is correct, the one put out by Republican campaign leaders or the one put out by President Eisenhower?\n",
      "MR. NIXON: Well, I would suggest, Mr. Vanocur, that if you know the President, that that was probably a facetious remark. I would also suggest that insofar as his statement is concerned, that I think it would be improper for the President of the United States to disclose the instances in which members of his official family had made recommendations, as I have made them through the years to him, which he has accepted or rejected.\n",
      "The President has always maintained, and very properly so, that he is entitled to get what advice he wants from his Cabinet and from his other advisers without disclosing that to anybody, including as a matter of fact, the Congress.\n",
      "Now, I can only say this: Through the years I have sat in the National Security Council. I have been in the Cabinet. I have met with the legislative leaders. I have met with the President when he made the great decisions with regard to Lebanon, Quemoy, Matsu, other matters.\n",
      "The resident has asked for my advice, I have given it; sometimes my advice has been taken, sometimes it has not. I do not say that I have made the decisions, and I would say that no President should ever allow anybody else to make the major decisions. The President only makes the decisions. All that his advisers do is to give counsel when he asks for it. As far as what experience counts and whether that is experience that counts, that isn't for me to say.\n",
      "I can only say that my experience is there for the people to consider, Senator Kennedy's is there for the people to consider.\n",
      "As he pointed out, we came to the Congress in the same year; his experience has been different from mine, mine has been in the executive branch, his has been in the legislative branch.\n",
      "I would say that the people now have the opportunity to evaluate his as against mine, and I think both he and I are going to abide by whatever the people decide.\n",
      "MR. SMITH: Senator Kennedy?\n",
      "MR. KENNEDY: Well, I'll just say that the question is of experience and the question also is what our judgment is of the future and what our goals are for the United States and what ability we have to implement those goals.\n",
      "Abraham Lincoln came to the Presidency in 1860 after a rather little known session in the House of Representatives and after being defeated for the Senate in '58, and was a distinguished President. There is no certain road to the Presidency. There are no guarantees that if you take one road or another that you will be a successful President.\n",
      "I have been in the Congress for 14 years. I have voted in the last 8 years, and the Vice President was presiding over the Senate and meeting his other responsibilities; I have met decisions over 800 times on matters which affect not only the domestic security of the United States, but as a member of the Senate Foreign Relations Committee.\n",
      "The question really is: which candidate and which party can meet the problems that the United States is going to face in the '60's?\n",
      "MR. SMITH: The next question to Senator Kennedy from Mr. Novins.\n",
      "MR. NOVINS: Senator Kennedy, in connection with these problems of the future that you speak of and the program that you enunciated earlier in your direct talk, you call for expanding some of the welfare programs, for schools, for teacher salaries, medical care, and so forth, but you also call for reducing the Federal debt, and I'm wondering how you, if you are President in January, would go about paying the bill for all this. Does this mean--\n",
      "MR. KENNEDY: I didn't advocate--I did not advocate reducing the Federal debt, because I don't believe that you're going to be able to reduce the Federal debt very much in 1961, 2, or 3.\n",
      "I think you have heavy obligations which affect our security which we're going to have to meet, and, therefore, I've never suggested we should be able to retire the debt substantially, or even at all in 1961 or 2--\n",
      "MR. NOVINS: Senator, I believe in one of your speeches--\n",
      "MR. KENNEDY: No, never.\n",
      "MR. NOVINS: (Continuing) . . . you suggested that reducing the interest rate would help toward a reduction of the Federal debt--\n",
      "MR. KENNEDY: No, no. Not reducing the interest-- reducing the interest rate.\n",
      "In my judgment, the hard money--tight money policy, fiscal policy of this administration has contributed to the slowdown in our economy, which helped bring the recession of '54 which made the recession of '58 rather intense, and which has slowed, somewhat, our economic activity in 1960.\n",
      "What I have talked about, however, the kind of programs that I talk about, in my judgment, are fiscally sound. Medical care for the aged, I would put under social security. The Vice President and I disagree on this. The program, the Javits-Nixon or the Nixon-Javits program, would have cost, if fully used, $600 million by the Government per year, and $600 million by the States.\n",
      "The program which I advocated, which failed by five votes in the United States' Senate, would have put medical care for the aged in social security and would have been paid for through the social security system and the social security tax.\n",
      "Secondly, I support Federal aid to education and Federal aid for teachers' salaries. I think that's a good investment. I think we're going to have to do it. And I think to heap the burden further on the property tax, which is already strained in many of our communities, will provide--will make--insure, in my opinion, that many of our children will not be adequately educated and many of our teachers not adequately compensated.\n",
      "There is no greater return to an economy or to a society than an educational system second to none.\n",
      "On the question of the development of natural resources, I would pay-as-you-go in the sense that they would be balanced and the power revenues would bring back sufficient money to finance the projects, in the same way as the Tennessee Valley.\n",
      "I believe in the balanced budget, and the only conditions under which I would unbalance the budget would be if there was a grave national emergency or a serious recession. Otherwise, with a steady rate of economic growth, and Mr. Nixon and Mr. Rockefeller, in their meeting, said a 5-percent economic growth would bring by 1962 $10 billion extra in tax revenues. Whatever is brought in I think that we can finance essential programs within a balanced budget if business remains orderly.\n",
      "MR. SMITH: Mr. Nixon, your comment?\n",
      "MR. NIXON: Yes. I think what Mr. Novins was referring to was not one of Senator Kennedy's speeches, but the Democratic platform, which did mention cutting the national debt.\n",
      "I think, too, that it should be pointed out that, of course, it is not possible, particularly under the proposals that Senator Kennedy has advocated either to cut the national debt or to reduce taxes. As a matter of fact, it will be necessary to raise taxes.\n",
      "Senator Kennedy points out that as far as his one proposal is concerned, the one for medical care for the aged, that that would be financed out of social security. That, however, is raising taxes for those who pay social security.\n",
      "He points out that he would make pay-as-you-go be the basis for our natural resources development, where our natural resources development, which I also support, incidentally, however, whenever you appropriate money for one of these projects, you have to pay now and appropriate the money and the--while they eventually do pay out, it doesn't mean that you--the Government doesn't have to put out the money this year.\n",
      "And so I would say that in all of these proposals Senator Kennedy has made, they will result in one of two things: Either he has to raise taxes or he has to unbalance the budget. If he unbalances the budget, that means you have inflation, and that will be, of course, a very cruel blow to the very people--the older people--that we've been talking about.\n",
      "As far as aid for school construction is concerned, I favor that, as Senator Kennedy did in January of this year when he said he favored that rather than aid to teachers' salaries. I favor that because I believe that's the best way to aid our schools without running any risk whatever of the Federal Government telling our teachers what to teach.\n",
      "MR. SMITH: The next question to Vice President Nixon from Mr. Warren.\n",
      "MR. WARREN: Mr. Vice President, you mentioned schools. It was just yesterday, I think, you asked for a crash program to raise education standards, and this evening you talked about advances in education.\n",
      "Mr. Vice President, you said--it was back in 1957--that salaries paid to school teachers were nothing short of a national disgrace. Higher salaries for teachers you added, were important, and if the situation wasn't corrected, it could lead to a national disaster.\n",
      "And yet, you refused to vote in the Senate in order to break a tie vote when that single vote, if it had been \"yes,\" would have granted salary increases to teachers. I wonder if you could explain that, sir.\n",
      "MR. NIXON: I'm awfully glad you got that question, because, as you know, I got into it at the last of my other question and wasn't able to complete the argument. [Laughter].\n",
      "I think that the reason that I voted against having the Federal government pay teachers' salaries was probably the very reason that concerned Senator Kennedy when, in January of this year, in his kickoff press conference, he said that he favored aid for school construction, but at that time did not feel that there should be aid for teachers' salaries. At least that's the way I read his remarks.\n",
      "Now, why should there be any question about the Federal government aiding teachers' salaries? Why did Senator Kennedy take that position then? Why do I take it now? We both took it then and I take it now for this reason: We want higher teachers' salaries; we need higher teachers' salaries; but we also want our education to be free of Federal control.\n",
      "When the Federal Government gets the power to pay teachers, inevitably, in my opinion, it will acquire the power to set standards and to tell the teachers what to teach. I think this would be bad for the country; I think it would be bad for the teaching profession.\n",
      "There is another point that should be made. I favor higher salaries for teachers, but, as Senator Kennedy said in January of this year in this same press conference, the way that you get higher salaries for teachers is to support school construction, which means that all of the local school districts in the various States then have money which is freed to raise the standards for teachers' salaries.\n",
      "I should also point out this: Once you put the responsibility on the Federal Government for paying a portion of teachers' salaries, your local communities and your States are not going to meet the responsibility as much as they should. I believe, in other words, that we have seen the local communities and the States assuming more of that responsibility. Teachers' salaries, very fortunately, have gone up 50 percent in the last 8 years, as against only a 34-percent rise for other salaries. This is not enough. It should be more. But I do not believe that the way to get more salaries for teachers is to have the Federal Government get in with a massive program.\n",
      "My objection here is not the cost in dollars. My objection here is the potential cost in controls and eventual freedom for the American people by giving the Federal Government power over education, and that is the greatest power a government can have.\n",
      "MR. SMITH: Senator Kennedy's comment.\n",
      "MR. KENNEDY: When the Vice President quotes me in January, '60, I do not believe the Federal Government should pay directly teachers' salaries, but that was not the issue before the Senate in February.\n",
      "The issue before the Senate was that the money would be given to the State; the State then could determine whether the money would be spent for school construction or teacher salaries.\n",
      "On that question the Vice President and I disagreed. I voted in favor of that proposal and supported it strongly, because I think that that provided assistance to our teachers for their salaries without any chance of Federal control and it is on that vote that Mr. Nixon and I disagreed, and his tie vote defeated--his breaking the tie defeated the proposal.\n",
      "I don't want the Federal Government paying teachers' salaries directly; but if the money will go to the States and the States can then determine whether it shall go for school construction or for teachers' salaries, in my opinion you protect the local authority over the school board and the school committees. And, therefore, I think that was a sound proposal and that is why I supported it and I regret that it did not pass.\n",
      "Secondly, there have been statements made that the Democratic platform would cost a good deal of money and that I am in favor of unbalancing the budget.\n",
      "That is wholly wrong, wholly in error; and it is a fact that in the last 8 years the Democratic Congress has reduced the appropria-- the request of the appropriation by over $10 billion.\n",
      "That is not my view and I think it ought to be stated very clearly on the record.\n",
      "My view is that you can do these programs--and they should be carefully drawn--within a balanced budget if our economy is moving ahead.\n",
      "MR. SMITH: The next question to Senator Kennedy from Mr. Vanocur.\n",
      "MR. VANOCUR: Senator, you've been promising the voters that if you are elected President you'll try and push through Congress bills on medical aid to the aged, a comprehensive minimum hourly wage bill, Federal aid to education.\n",
      "Now, in the August postconvention session of the Congress--when you, at least, held up the possibility you could one day be President and when you had overwhelming majorities, especially in the Senate--you could not get action on these bills.\n",
      "Now how do you feel that you'll be able to get them in January--\n",
      "MR. KENNEDY: Let's take the bills--\n",
      "MR. VANOCUR: (continuing) . . . if you weren't able to get them in August?\n",
      "MR. KENNEDY: If I may take the bills.\n",
      "We did pass in the Senate a bill to provide $1.25 minimum wage. It failed because the House did not pass it and the House failed by 11 votes, and I might say that two-thirds of the Republicans in the House voted against a dollar twenty-five cent minimum wage, and a majority of the Democrats sustained it. Nearly two-thirds of them voted for the dollar twenty-five.\n",
      "We were threatened by a veto if we passed a dollar and a quarter.\n",
      "It's extremely difficult, with the great power that the President does, to pass any bill when the President is opposed.\n",
      "All the President needs to sustain his veto of any bill, is one-third plus one in either the House or the Senate.\n",
      "Secondly, we passed a Federal-aid-to-education bill in the Senate. It failed to came to the floor of the House of Representatives. It was killed in the Rules Committee and it is a fact in the August session that the four members of the Rules Committee, who are Republicans, joining with two Democrats, voted against sending the aid-to-education bill to the floor of the House.\n",
      "Four Democrats voted for it. Every Republican on the Rules Committee voted against sending that bill to be considered by the Members of the House of Representatives.\n",
      "Thirdly, on medical care for the aged: This is the same fight that's been going on for 25 years in social security.\n",
      "We wanted to tie it to social security. We offered an amendment to do so; 44 Democrats voted for it; 1 Republican voted for it; and we were informed at the time it came to a vote that if it was adopted the President of the United States would veto it.\n",
      "In my judgment, a vigorous Democratic President supported by a Democratic majority in the House and Senate, can win the support for these programs; but if you send a Republican President and a Democratic majority and the threat of a veto hangs over the Congress, in my judgment you will continue what happened in the August session, which is a clash of parties and inaction.\n",
      "MR. SMITH: Mr. Nixon, comment?\n",
      "MR. NIXON: Well, obviously my views are a little different.\n",
      "First of all, I don't see how it's possible for a one-third of a body, such as the Republicans have in the House and the Senate, to stop two-thirds if the two-thirds are adequately led.\n",
      "I would say, too, that when Senator Kennedy refers to the action of the House Rules Committee, there are eight Democrats on that committee and four Republicans. It would seem to me, again, that it is very difficult to blame the four Republicans for the eight Democrats not getting something through that particular committee.\n",
      "I would say further that to blame the President in his veto power for the inability of the Senator and his colleagues to get action in this special session misses the mark.\n",
      "When the President exercises his veto power, he has to have the people behind him, not just a third of the Congress--because let's consider it:\n",
      "If the majority of the Members of the Congress felt that these particular proposals were good issues--the majority of those who were Democrats--why didn't they pass them and send to the President and get a veto and have an issue?\n",
      "The reason why these particular bills in these various fields that have been mentioned were not passed was not because the President was against them; it was because the people were against them. It was because they were too extreme; and I am convinced that the alternate proposals that I have, that the Republicans have in the field of health, in the field of education, and the field of welfare, because they are not extreme, because they will accomplish the end without too great cost in dollars or in freedom, that they could get through the next Congress.\n",
      "MR. SMITH: The next question to Vice President Nixon from Mr. Fleming.\n",
      "MR. FLEMING: Mr. Vice President, do I take it, then, you believe that you could work better with Democratic majorities in the House and Senate than Senator Kennedy could work with Democratic majorities in the House and Senate?\n",
      "MR. NIXON: I would say this: That we, of course, expect to pick up some seats in both in the House and the Senate.\n",
      "We would hope to control the House, to get a majority in the House in this election. We cannot, of course, control the Senate.\n",
      "I would say that a President will be able to lead, a President will be able to get his program through to the effect that he has the support of the country, the support of the people.\n",
      "Sometimes we--we get the opinion that in getting programs through the House or the Senate it's purely a question of legislative finagling and all that sort of thing.\n",
      "It isn't really that. Whenever a majority of the people are for a program, the House and the Senate responds to it; and whether this House and Senate, in the next session is Democratic or Republican, if the country will have voted for the candidate for the Presidency and for the proposals that he has made, I believe that you will find that the President, if it were a Republican, as it would be in my case, would be able to get his program through that Congress.\n",
      "Now I also say that as far as Senator Kennedy's proposals are concerned, that again the question is not simply one of a Presidential veto stopping programs. You must always remember that a President can't stop anything unless he has the people behind him, and the reason President Eisenhower's vetoes have been sustained, the reason the Congress does not send up bills to him which they think will be vetoed is because the people and the Congress, the majority of them, know the country is behind the President.\n",
      "MR. SMITH: Senator Kennedy.\n",
      "MR. KENNEDY: Well, now let's look at these bills that the Vice President suggests were too extreme.\n",
      "One was a bill for a dollar twenty-five cents an hour for anyone who works in a store or company that has a million dollars a year business. I don't think that's extreme at all, and yet nearly two-thirds to three-fourths of the Republicans in the House of Representatives voted against that proposal.\n",
      "Secondly was the Federal aid to education bill. It - it was a very--because of the defeat of teacher salaries, it was not a bill that met, in my opinion, the needs. The fact of the matter is it was a bill that was less than you recommended, Mr. Nixon, this morning in your proposal.\n",
      "It was not an extreme bill, and yet we could not get one Republican to join; at least, I think, four of the eight Democrats voted to send it to the floor of the House, not one Republican, and they joined with those Democrats who were opposed to it.\n",
      "I don't say the Democrats are united in their support of the program, but I do say a majority are and I say a majority of the Republicans are opposed to it.\n",
      "The third is medical care for the aged, which is tied to social security, which is financed out of social security funds, does not put a deficit on the Treasury.\n",
      "The proposal advanced by you and by Mr. Javits would have cost $600 millions. Mr. Rockefeller rejected it in New York; he said he didn't agree with the financing at all; said it ought to be on social security.\n",
      "So these are three programs which are quite moderate. I think it shows the difference between the two parties.\n",
      "One party is ready to move in these programs; the other party gives them lipservice.\n",
      "MR. SMITH: Mr. Warren's question for Senator Kennedy.\n",
      "MR. WARREN: Senator Kennedy, on another subject:\n",
      "Communism is so often described as an ideology or a belief which exists somewhere other than in the United States. Let me ask you, sir:\n",
      "Just how serious a threat to our national security are these Communist subversive activities in the United States today?\n",
      "MR. KENNEDY: Well, I think they're serious. I think it's a matter that we should continue to give great care and attention to.\n",
      "We should support the laws which the United States has passed in order to protect us from uh - those who would destroy us from within.\n",
      "We should sustain the Department of Justice in its efforts and the FBI and we should be continually alert.\n",
      "I think if the United States is maintaining a strong society here in the United States, I think that we can meet any internal threat. The major threat is external and will continue.\n",
      "MR. SMITH: Mr. Nixon, comment?\n",
      "MR. NIXON: I agree with Senator Kennedy's appraisal generally in this respect.\n",
      "The question of communism within the United States has been one that has worried us in the past. It is one that will continue to be a problem for years to come.\n",
      "We have to remember that the cold war that Mr. Khrushchev is waging and his colleagues are waging, is waged all over the world and it's waged right here in the United States.\n",
      "That's why we have to continue to be alert.\n",
      "It is also essential in being alert that we be fair--fair because by being fair, we uphold the very freedoms that the Communists would destroy.\n",
      "We uphold the standards of conduct which they would never follow and in this connection I think that we must look to the future having in mind the fact that we fight communism at home not only by our laws to deal with Communists, the few who do become Communists and the few who do become fellow travelers, but we also fight communism at home by moving against those various injustices which exist in our society; which the Communists feed upon. And in that connection I again would say that while Senator Kennedy says we are for the status quo, I do believe that he would agree that I am just as sincere in believing that my proposals for Federal aid to education, my proposals for health care are just as sincerely held as his.\n",
      "The question again is not one of goals. We are for those goals. It's one of means.\n",
      "MR. SMITH: Mr. Vanocur's question for Vice President Nixon.\n",
      "MR. VANOCUR: Mr. Vice President, in one of your earlier statements you said we have moved ahead, we have built more schools, we have built more hospitals.\n",
      "Now, sir, isn't it true that the building of more schools is a local matter for financing?\n",
      "Were you claiming that the Eisenhower administration was responsible for the building of these schools or is it the local school districts that provide for them?\n",
      "MR. NIXON: Not at all. As a matter of fact, your question brings out a point that I am very glad to make. Too often in appraising whether we are moving ahead or not we think only of what the Federal Government is doing.\n",
      "Now, that isn't the test of whether America moves. The test of whether America moves is whether the Federal Government plus the State government plus the local government plus the biggest segment of all, individual enterprise, moves.\n",
      "We have, for example, a gross national product of approximately $500 billion. Roughly $100 to $125 billion of that is the result of Government activity. Four hundred billion, approximately, is the result of what individuals do.\n",
      "Now the reason the Eisenhower administration has moved, the reason that we've had the funds, for example, locally to build the schools and the hospitals and the highways, to make the progress that we have, is because this administration has encouraged individual enterprise and it has resulted in the greatest expansion of the private sector of the economy that has ever been witnessed in an 8-year period, and that is growth. That is the growth that we are looking for. It is the growth that this administration has supported and that its policies have stimulated.\n",
      "MR. SMITH: Senator Kennedy.\n",
      "MR. KENNEDY: Well, I must say the reason that the schools have been constructed is because the local school districts were willing to increase the property taxes to a tremendously high figure, in my opinion, almost to the point of diminishing returns, in order to sustain these schools.\n",
      "Secondly, I think we have a rich country. And I think we have a powerful country. I think what we have to do, however, is have the President and the leadership set before our country exactly what we must do in the next decade, if we're going to maintain our security in education, in economic growth, in development of natural resources.\n",
      "The Soviet Union is making great gains. It isn't enough to compare what might have been done 8 years ago or 10 years ago or 15 years ago or 20 years ago.\n",
      "I want to compare what we're doing with what our adversaries are doing, so that by the year 1970 the United States is ahead in education, in health, in building, in homes, in economic strength.\n",
      "I think that's the big assignment, the big task, the big function of the Federal Government.\n",
      "MR. SMITH: Can I have the summation time please?\n",
      "We've completed our questions and, our comments, in just a moment, we'll have the summation time.\n",
      "A VOICE: This will allow 3 minutes and 20 seconds for the summation by each candidate.\n",
      "MR. SMITH: Three minutes and twenty seconds for each candidate. Vice President Nixon, will you make the first summation?\n",
      "MR. NIXON: Thank you, Mr. Smith.\n",
      "Senator Kennedy, first of all, I think it is well to put in perspective where we really do stand with regard to the Soviet Union in this whole matter of growth.\n",
      "The Soviet Union has been moving faster than we have, but the reason for that is obvious. They start from a much lower base.\n",
      "Although they have been moving faster in growth than we have, we find for example today that their total gross national product is only 44 percent of our total gross national product. That's the same percentage that it was 20 years ago; and as far as the absolute gap is concerned, we find that the United States is even further ahead than it was 20 years ago.\n",
      "Is this any reason for complacency?\n",
      "Not at all Because these are determined men, they are fanatical men, and we have to get the very most out of our economy.\n",
      "I agree with Senator Kennedy completely on that score.\n",
      "Where we disagree is in the means that we would use to get the most out of our economy.\n",
      "I respectfully submit that Senator Kennedy too often would rely too much on the Federal Government on what it would do to solve our problems, to stimulate growth.\n",
      "I believe that when we examine the Democratic platform, when we examine the proposals that he has discussed tonight, when we compare them with the proposals that I have made, that these proposals that he makes would not result in greater growth for this country than would be the case if we followed the programs that I have advocated.\n",
      "There are many of the points that he has made that I would like to comment upon, the one in the field of health is worth mentioning.\n",
      "Our health program, the one that Senator Javits and other Republican Senators as well as I supported, is one that provides for all people over 65 who want health insurance--the opportunity to have it if they want it. It provides a choice of having either Government insurance or private insurance, but it compels nobody to have insurance who does not want it.\n",
      "His program under social security would require everybody who had social security to take Government health insurance whether he wanted it or not and it would not cover several million people who are not covered by social security at all.\n",
      "Here is one place where I think that our program does a better job than his.\n",
      "The other point that I would make is this: This downgrading of how much things cost, I think many of our people will understand better when they look at what happened when during the Truman administration when the Government was spending more than it took in.\n",
      "We found savings over a lifetime eaten up by inflation. We found the people who could least afford it, people on retired incomes, people on fixed incomes, we found them unable to meet their bills at the end of the month.\n",
      "It is essential that a man who is President of this country, certainly stand for every program that will mean for growth, and I stand for programs that will mean growth and progress.\n",
      "But it is also essential that he not allow a dollar spent that could be better spent by the people themselves.\n",
      "MR. SMITH: Senator Kennedy, your conclusion.\n",
      "MR. KENNEDY: The point was made by Mr. Nixon that the Soviet production is only 44 percent of ours. I must say that 44 percent and that Soviet country is causing us a good deal of trouble tonight. I want to make sure that it stays in that relationship. I don't want to see the day when it's 60 percent of ours and 70 and 75 and 80 and 90 percent of ours, with all the force and power that it could bring to bear in order to cause our destruction.\n",
      "Secondly, the Vice President mentioned medical care for the aged. Our program was an amendment to the Kerr bill. The Kerr bill provided assistance to all those who were not on social security. I think it's a very clear contrast.\n",
      "In 1935, when the Social Security Act was written, 94 out of 95 Republicans voted against it. Mr. Landon ran in 1936 to repeal it.\n",
      "In August of 1960, when we tried to get it again, but this time for medical care, we received the support of one Republican in the Senate on this occasion.\n",
      "Thirdly, I think the question before the American people is as they look at this country, and as they look at the world around them, the goals are the same for all Americans; the means are at question; the means are at issue.\n",
      "If you feel that everything that is being done now is satisfactory, that the relative power and prestige and strength of the United States is increasing in relation to that of the Communists, that we are gaining more security, that we are achieving everything as a nation that we should achieve, that we are achieving a better life for our citizens and greater strength, then I agree. I think you should vote for Mr. Nixon.\n",
      "But if you feel that we have to move again in the sixties, that the function of the President is to set before the people the unfinished business of our society, as Franklin Roosevelt did in the thirties, the agenda for our people, what we must do as a society to meet our needs in this country and protect our security and help the cause of freedom--as I said at the beginning, the question before us all that faces all Republicans and all Democrats, is: Can freedom in the next generation conquer, or are the Communists going to be successful? That's the great issue.\n",
      "And if we meet our responsibilities, I think freedom will conquer. If we fail--if we fail to move ahead, if we fail to develop sufficient military and economic and social strength here in this country, then I think that the tide could begin to run against us, and I don't want historians 10 years from now, to say, these were the years when the tide ran out for the United States. I want them to say, these were the years when the tide came in, these were the years when the United States started to move again. That's the question before the American people, and only you can decide what you want, what you want this country to be, what you want to do with the future.\n",
      "I think we're ready to move. And it is to that great task, if we are successful, that we will address ourselves.\n",
      "MR. SMITH: Thank you very much, gentlemen.\n",
      "This hour has gone by all too quickly. Thank you very much for permitting us to present the next President of the United States on this unique program.\n",
      "I've been asked by the candidates to thank the American networks and the affiliated stations for providing time and facilities for this joint appearance.\n",
      "Other debates in this series will be announced later and will be on different subjects. This is Howard K. Smith. Good night from Chicago.\n",
      "Related documents: Papers of John F. Kennedy. Pre-Presidential Papers. Senate Files, Box 912, \"Transcript of first Kennedy-Nixon debate, Chicago, Illinois, 26 September 1960.\" John F. Kennedy Presidential Library.\n",
      "\n",
      "\n"
     ]
    }
   ],
   "source": [
    "print(documents[0].page_content)"
   ]
  },
  {
   "cell_type": "code",
   "execution_count": 31,
   "metadata": {},
   "outputs": [],
   "source": [
    "from langchain.text_splitter import RecursiveCharacterTextSplitter"
   ]
  },
  {
   "cell_type": "code",
   "execution_count": 35,
   "metadata": {},
   "outputs": [],
   "source": [
    "text_splitter = RecursiveCharacterTextSplitter(chunk_size=1000, chunk_overlap=50)\n",
    "texts = text_splitter.split_documents(documents)"
   ]
  },
  {
   "cell_type": "code",
   "execution_count": 36,
   "metadata": {},
   "outputs": [],
   "source": [
    "from langchain_ollama import OllamaEmbeddings\n",
    "\n",
    "embedding = OllamaEmbeddings(\n",
    "    model=\"llama3:latest\"\n",
    ")"
   ]
  },
  {
   "cell_type": "code",
   "execution_count": 37,
   "metadata": {},
   "outputs": [],
   "source": [
    "from langchain_chroma.vectorstores import Chroma"
   ]
  },
  {
   "cell_type": "code",
   "execution_count": 38,
   "metadata": {},
   "outputs": [],
   "source": [
    "vector_store = Chroma(\n",
    "    collection_name=\"first-debate\",\n",
    "    embedding_function=embedding,\n",
    "    persist_directory=\"./chroma_langchain_db\",  # Where to save data locally, remove if not necessary\n",
    ")"
   ]
  },
  {
   "cell_type": "code",
   "execution_count": 51,
   "metadata": {},
   "outputs": [],
   "source": [
    "vectordb = vector_store.from_documents(documents=texts,\n",
    "                        embedding=embedding,\n",
    "                        persist_directory=\"data\",\n",
    "                        collection_name=\"first-debate\")"
   ]
  },
  {
   "cell_type": "code",
   "execution_count": 65,
   "metadata": {},
   "outputs": [],
   "source": [
    "results = vectordb.similarity_search_by_vector(\n",
    "    embedding=embedding.embed_query(\"What did Kennedy think about Lincoln?\"), k=5\n",
    ")"
   ]
  },
  {
   "cell_type": "code",
   "execution_count": 66,
   "metadata": {},
   "outputs": [
    {
     "data": {
      "text/plain": [
       "[Document(metadata={'source': 'gs://harmon-kennedy/1st-nixon-kennedy-debate-19600926.txt'}, page_content=\"And if we meet our responsibilities, I think freedom will conquer. If we fail--if we fail to move ahead, if we fail to develop sufficient military and economic and social strength here in this country, then I think that the tide could begin to run against us, and I don't want historians 10 years from now, to say, these were the years when the tide ran out for the United States. I want them to say, these were the years when the tide came in, these were the years when the United States started to move again. That's the question before the American people, and only you can decide what you want, what you want this country to be, what you want to do with the future.\\nI think we're ready to move. And it is to that great task, if we are successful, that we will address ourselves.\\nMR. SMITH: Thank you very much, gentlemen.\\nThis hour has gone by all too quickly. Thank you very much for permitting us to present the next President of the United States on this unique program.\"),\n",
       " Document(metadata={'source': 'gs://harmon-kennedy/1st-nixon-kennedy-debate-19600926.txt'}, page_content=\"But if you feel that we have to move again in the sixties, that the function of the President is to set before the people the unfinished business of our society, as Franklin Roosevelt did in the thirties, the agenda for our people, what we must do as a society to meet our needs in this country and protect our security and help the cause of freedom--as I said at the beginning, the question before us all that faces all Republicans and all Democrats, is: Can freedom in the next generation conquer, or are the Communists going to be successful? That's the great issue.\"),\n",
       " Document(metadata={'source': 'gs://harmon-kennedy/1st-nixon-kennedy-debate-19600926.txt'}, page_content='Our health program, the one that Senator Javits and other Republican Senators as well as I supported, is one that provides for all people over 65 who want health insurance--the opportunity to have it if they want it. It provides a choice of having either Government insurance or private insurance, but it compels nobody to have insurance who does not want it.\\nHis program under social security would require everybody who had social security to take Government health insurance whether he wanted it or not and it would not cover several million people who are not covered by social security at all.\\nHere is one place where I think that our program does a better job than his.\\nThe other point that I would make is this: This downgrading of how much things cost, I think many of our people will understand better when they look at what happened when during the Truman administration when the Government was spending more than it took in.'),\n",
       " Document(metadata={'source': 'gs://harmon-kennedy/1st-nixon-kennedy-debate-19600926.txt'}, page_content='Is this any reason for complacency?\\nNot at all Because these are determined men, they are fanatical men, and we have to get the very most out of our economy.\\nI agree with Senator Kennedy completely on that score.\\nWhere we disagree is in the means that we would use to get the most out of our economy.\\nI respectfully submit that Senator Kennedy too often would rely too much on the Federal Government on what it would do to solve our problems, to stimulate growth.\\nI believe that when we examine the Democratic platform, when we examine the proposals that he has discussed tonight, when we compare them with the proposals that I have made, that these proposals that he makes would not result in greater growth for this country than would be the case if we followed the programs that I have advocated.\\nThere are many of the points that he has made that I would like to comment upon, the one in the field of health is worth mentioning.'),\n",
       " Document(metadata={'source': 'gs://harmon-kennedy/1st-nixon-kennedy-debate-19600926.txt'}, page_content=\"Now the reason the Eisenhower administration has moved, the reason that we've had the funds, for example, locally to build the schools and the hospitals and the highways, to make the progress that we have, is because this administration has encouraged individual enterprise and it has resulted in the greatest expansion of the private sector of the economy that has ever been witnessed in an 8-year period, and that is growth. That is the growth that we are looking for. It is the growth that this administration has supported and that its policies have stimulated.\\nMR. SMITH: Senator Kennedy.\\nMR. KENNEDY: Well, I must say the reason that the schools have been constructed is because the local school districts were willing to increase the property taxes to a tremendously high figure, in my opinion, almost to the point of diminishing returns, in order to sustain these schools.\")]"
      ]
     },
     "execution_count": 66,
     "metadata": {},
     "output_type": "execute_result"
    }
   ],
   "source": [
    "results"
   ]
  },
  {
   "cell_type": "code",
   "execution_count": 67,
   "metadata": {},
   "outputs": [],
   "source": [
    "from langchain_ollama import ChatOllama\n",
    "\n",
    "from langchain import hub\n",
    "from langchain.chains.combine_documents import create_stuff_documents_chain\n",
    "from langchain.chains.retrieval import create_retrieval_chain"
   ]
  },
  {
   "cell_type": "code",
   "execution_count": 68,
   "metadata": {},
   "outputs": [
    {
     "name": "stderr",
     "output_type": "stream",
     "text": [
      "/Users/mikeharmon/miniconda3/envs/llm_env/lib/python3.11/site-packages/langsmith/client.py:354: LangSmithMissingAPIKeyWarning: API key must be provided when using hosted LangSmith API\n",
      "  warnings.warn(\n"
     ]
    }
   ],
   "source": [
    "template = hub.pull(\"langchain-ai/retrieval-qa-chat\")"
   ]
  },
  {
   "cell_type": "code",
   "execution_count": 79,
   "metadata": {},
   "outputs": [],
   "source": [
    "llm = ChatOllama(model=\"llama3\", temperature=0)"
   ]
  },
  {
   "cell_type": "code",
   "execution_count": 80,
   "metadata": {},
   "outputs": [],
   "source": [
    "stuff_documents_chain = create_stuff_documents_chain(llm, template)"
   ]
  },
  {
   "cell_type": "code",
   "execution_count": 81,
   "metadata": {},
   "outputs": [],
   "source": [
    "rag_chain = create_retrieval_chain(\n",
    "                    vectordb.as_retriever(), \n",
    "                    stuff_documents_chain\n",
    ")"
   ]
  },
  {
   "cell_type": "code",
   "execution_count": 82,
   "metadata": {},
   "outputs": [],
   "source": [
    "response = rag_chain.invoke({\"input\": \"How Did Kennedy feel about Lincoln?\"})"
   ]
  },
  {
   "cell_type": "code",
   "execution_count": 84,
   "metadata": {},
   "outputs": [
    {
     "data": {
      "text/plain": [
       "\"The context does not mention John F. Kennedy's feelings about Abraham Lincoln. It appears to be a transcript of a speech or debate between two politicians, likely Richard Nixon and John F. Kennedy, during the 1960 presidential election. There is no mention of Lincoln in this specific passage.\""
      ]
     },
     "execution_count": 84,
     "metadata": {},
     "output_type": "execute_result"
    }
   ],
   "source": [
    "response[\"answer\"]"
   ]
  },
  {
   "cell_type": "code",
   "execution_count": null,
   "metadata": {},
   "outputs": [],
   "source": []
  }
 ],
 "metadata": {
  "kernelspec": {
   "display_name": "llm_env",
   "language": "python",
   "name": "python3"
  },
  "language_info": {
   "codemirror_mode": {
    "name": "ipython",
    "version": 3
   },
   "file_extension": ".py",
   "mimetype": "text/x-python",
   "name": "python",
   "nbconvert_exporter": "python",
   "pygments_lexer": "ipython3",
   "version": "3.11.0"
  }
 },
 "nbformat": 4,
 "nbformat_minor": 2
}
