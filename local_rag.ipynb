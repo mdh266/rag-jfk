{
 "cells": [
  {
   "cell_type": "code",
   "execution_count": 2,
   "metadata": {},
   "outputs": [
    {
     "data": {
      "text/plain": [
       "True"
      ]
     },
     "execution_count": 2,
     "metadata": {},
     "output_type": "execute_result"
    }
   ],
   "source": [
    "from dotenv import load_dotenv\n",
    "load_dotenv()"
   ]
  },
  {
   "cell_type": "code",
   "execution_count": 3,
   "metadata": {},
   "outputs": [],
   "source": [
    "from google.oauth2 import service_account\n",
    "from langchain_google_community.gcs_file import GCSFileLoader\n",
    "from langchain.document_loaders import JSONLoader\n",
    "import os"
   ]
  },
  {
   "cell_type": "code",
   "execution_count": 4,
   "metadata": {},
   "outputs": [],
   "source": [
    "\n",
    "credentials = service_account.Credentials.from_service_account_file('credentials.json')\n",
    "\n",
    "os.environ[\"GOOGLE_APPLICATION_CREDENTIALS\"] = \"credentials.json\""
   ]
  },
  {
   "cell_type": "code",
   "execution_count": 13,
   "metadata": {},
   "outputs": [],
   "source": [
    "def load_json(file_path, jq_schema=None):\n",
    "    return JSONLoader(file_path, jq_schema=jq_schema, text_content=False)"
   ]
  },
  {
   "cell_type": "code",
   "execution_count": 14,
   "metadata": {},
   "outputs": [],
   "source": [
    "loader = GCSFileLoader(project_name=credentials.project_id,\n",
    "                       bucket=\"kennedyskis\",\n",
    "                       blob=\"1st-nixon-kennedy-debate-19600926.json\",\n",
    "                       loader_func=load_json )"
   ]
  },
  {
   "cell_type": "code",
   "execution_count": 1,
   "metadata": {},
   "outputs": [],
   "source": [
    "loader = load_json(\"yuma-az-19600409.json\", \".\")"
   ]
  },
  {
   "cell_type": "code",
   "execution_count": 8,
   "metadata": {},
   "outputs": [],
   "source": [
    "documents = loader.load()"
   ]
  },
  {
   "cell_type": "code",
   "execution_count": 10,
   "metadata": {},
   "outputs": [
    {
     "data": {
      "text/plain": [
       "Document(metadata={'source': '/Users/mikeharmon/Desktop/LLMs/rag-jfk/yuma-az-19600409.json', 'seq_num': 1}, page_content='')"
      ]
     },
     "execution_count": 10,
     "metadata": {},
     "output_type": "execute_result"
    }
   ],
   "source": [
    "documents[0]"
   ]
  },
  {
   "cell_type": "code",
   "execution_count": 10,
   "metadata": {},
   "outputs": [
    {
     "name": "stdout",
     "output_type": "stream",
     "text": [
      "\n"
     ]
    }
   ],
   "source": [
    "print(documents[0].page_content)"
   ]
  },
  {
   "cell_type": "code",
   "execution_count": 31,
   "metadata": {},
   "outputs": [],
   "source": [
    "from langchain.text_splitter import RecursiveCharacterTextSplitter"
   ]
  },
  {
   "cell_type": "code",
   "execution_count": 35,
   "metadata": {},
   "outputs": [],
   "source": [
    "text_splitter = RecursiveCharacterTextSplitter(chunk_size=1000, chunk_overlap=50)\n",
    "texts = text_splitter.split_documents(documents)"
   ]
  },
  {
   "cell_type": "code",
   "execution_count": 36,
   "metadata": {},
   "outputs": [],
   "source": [
    "from langchain_ollama import OllamaEmbeddings\n",
    "\n",
    "embedding = OllamaEmbeddings(\n",
    "    model=\"llama3:latest\"\n",
    ")"
   ]
  },
  {
   "cell_type": "code",
   "execution_count": 37,
   "metadata": {},
   "outputs": [],
   "source": [
    "from langchain_chroma.vectorstores import Chroma"
   ]
  },
  {
   "cell_type": "code",
   "execution_count": 38,
   "metadata": {},
   "outputs": [],
   "source": [
    "vector_store = Chroma(\n",
    "    collection_name=\"first-debate\",\n",
    "    embedding_function=embedding,\n",
    "    persist_directory=\"./chroma_langchain_db\",  # Where to save data locally, remove if not necessary\n",
    ")"
   ]
  },
  {
   "cell_type": "code",
   "execution_count": 51,
   "metadata": {},
   "outputs": [],
   "source": [
    "vectordb = vector_store.from_documents(documents=texts,\n",
    "                        embedding=embedding,\n",
    "                        persist_directory=\"data\",\n",
    "                        collection_name=\"first-debate\")"
   ]
  },
  {
   "cell_type": "code",
   "execution_count": 65,
   "metadata": {},
   "outputs": [],
   "source": [
    "results = vectordb.similarity_search_by_vector(\n",
    "    embedding=embedding.embed_query(\"What did Kennedy think about Lincoln?\"), k=5\n",
    ")"
   ]
  },
  {
   "cell_type": "code",
   "execution_count": 66,
   "metadata": {},
   "outputs": [
    {
     "data": {
      "text/plain": [
       "[Document(metadata={'source': 'gs://harmon-kennedy/1st-nixon-kennedy-debate-19600926.txt'}, page_content=\"And if we meet our responsibilities, I think freedom will conquer. If we fail--if we fail to move ahead, if we fail to develop sufficient military and economic and social strength here in this country, then I think that the tide could begin to run against us, and I don't want historians 10 years from now, to say, these were the years when the tide ran out for the United States. I want them to say, these were the years when the tide came in, these were the years when the United States started to move again. That's the question before the American people, and only you can decide what you want, what you want this country to be, what you want to do with the future.\\nI think we're ready to move. And it is to that great task, if we are successful, that we will address ourselves.\\nMR. SMITH: Thank you very much, gentlemen.\\nThis hour has gone by all too quickly. Thank you very much for permitting us to present the next President of the United States on this unique program.\"),\n",
       " Document(metadata={'source': 'gs://harmon-kennedy/1st-nixon-kennedy-debate-19600926.txt'}, page_content=\"But if you feel that we have to move again in the sixties, that the function of the President is to set before the people the unfinished business of our society, as Franklin Roosevelt did in the thirties, the agenda for our people, what we must do as a society to meet our needs in this country and protect our security and help the cause of freedom--as I said at the beginning, the question before us all that faces all Republicans and all Democrats, is: Can freedom in the next generation conquer, or are the Communists going to be successful? That's the great issue.\"),\n",
       " Document(metadata={'source': 'gs://harmon-kennedy/1st-nixon-kennedy-debate-19600926.txt'}, page_content='Our health program, the one that Senator Javits and other Republican Senators as well as I supported, is one that provides for all people over 65 who want health insurance--the opportunity to have it if they want it. It provides a choice of having either Government insurance or private insurance, but it compels nobody to have insurance who does not want it.\\nHis program under social security would require everybody who had social security to take Government health insurance whether he wanted it or not and it would not cover several million people who are not covered by social security at all.\\nHere is one place where I think that our program does a better job than his.\\nThe other point that I would make is this: This downgrading of how much things cost, I think many of our people will understand better when they look at what happened when during the Truman administration when the Government was spending more than it took in.'),\n",
       " Document(metadata={'source': 'gs://harmon-kennedy/1st-nixon-kennedy-debate-19600926.txt'}, page_content='Is this any reason for complacency?\\nNot at all Because these are determined men, they are fanatical men, and we have to get the very most out of our economy.\\nI agree with Senator Kennedy completely on that score.\\nWhere we disagree is in the means that we would use to get the most out of our economy.\\nI respectfully submit that Senator Kennedy too often would rely too much on the Federal Government on what it would do to solve our problems, to stimulate growth.\\nI believe that when we examine the Democratic platform, when we examine the proposals that he has discussed tonight, when we compare them with the proposals that I have made, that these proposals that he makes would not result in greater growth for this country than would be the case if we followed the programs that I have advocated.\\nThere are many of the points that he has made that I would like to comment upon, the one in the field of health is worth mentioning.'),\n",
       " Document(metadata={'source': 'gs://harmon-kennedy/1st-nixon-kennedy-debate-19600926.txt'}, page_content=\"Now the reason the Eisenhower administration has moved, the reason that we've had the funds, for example, locally to build the schools and the hospitals and the highways, to make the progress that we have, is because this administration has encouraged individual enterprise and it has resulted in the greatest expansion of the private sector of the economy that has ever been witnessed in an 8-year period, and that is growth. That is the growth that we are looking for. It is the growth that this administration has supported and that its policies have stimulated.\\nMR. SMITH: Senator Kennedy.\\nMR. KENNEDY: Well, I must say the reason that the schools have been constructed is because the local school districts were willing to increase the property taxes to a tremendously high figure, in my opinion, almost to the point of diminishing returns, in order to sustain these schools.\")]"
      ]
     },
     "execution_count": 66,
     "metadata": {},
     "output_type": "execute_result"
    }
   ],
   "source": [
    "results"
   ]
  },
  {
   "cell_type": "code",
   "execution_count": 67,
   "metadata": {},
   "outputs": [],
   "source": [
    "from langchain_ollama import ChatOllama\n",
    "\n",
    "from langchain import hub\n",
    "from langchain.chains.combine_documents import create_stuff_documents_chain\n",
    "from langchain.chains.retrieval import create_retrieval_chain"
   ]
  },
  {
   "cell_type": "code",
   "execution_count": 68,
   "metadata": {},
   "outputs": [
    {
     "name": "stderr",
     "output_type": "stream",
     "text": [
      "/Users/mikeharmon/miniconda3/envs/llm_env/lib/python3.11/site-packages/langsmith/client.py:354: LangSmithMissingAPIKeyWarning: API key must be provided when using hosted LangSmith API\n",
      "  warnings.warn(\n"
     ]
    }
   ],
   "source": [
    "template = hub.pull(\"langchain-ai/retrieval-qa-chat\")"
   ]
  },
  {
   "cell_type": "code",
   "execution_count": 79,
   "metadata": {},
   "outputs": [],
   "source": [
    "llm = ChatOllama(model=\"llama3\", temperature=0)"
   ]
  },
  {
   "cell_type": "code",
   "execution_count": 80,
   "metadata": {},
   "outputs": [],
   "source": [
    "stuff_documents_chain = create_stuff_documents_chain(llm, template)"
   ]
  },
  {
   "cell_type": "code",
   "execution_count": 81,
   "metadata": {},
   "outputs": [],
   "source": [
    "rag_chain = create_retrieval_chain(\n",
    "                    vectordb.as_retriever(), \n",
    "                    stuff_documents_chain\n",
    ")"
   ]
  },
  {
   "cell_type": "code",
   "execution_count": 82,
   "metadata": {},
   "outputs": [],
   "source": [
    "response = rag_chain.invoke({\"input\": \"How Did Kennedy feel about Lincoln?\"})"
   ]
  },
  {
   "cell_type": "code",
   "execution_count": 84,
   "metadata": {},
   "outputs": [
    {
     "data": {
      "text/plain": [
       "\"The context does not mention John F. Kennedy's feelings about Abraham Lincoln. It appears to be a transcript of a speech or debate between two politicians, likely Richard Nixon and John F. Kennedy, during the 1960 presidential election. There is no mention of Lincoln in this specific passage.\""
      ]
     },
     "execution_count": 84,
     "metadata": {},
     "output_type": "execute_result"
    }
   ],
   "source": [
    "response[\"answer\"]"
   ]
  },
  {
   "cell_type": "code",
   "execution_count": null,
   "metadata": {},
   "outputs": [],
   "source": []
  }
 ],
 "metadata": {
  "kernelspec": {
   "display_name": "jfk4_env",
   "language": "python",
   "name": "python3"
  },
  "language_info": {
   "codemirror_mode": {
    "name": "ipython",
    "version": 3
   },
   "file_extension": ".py",
   "mimetype": "text/x-python",
   "name": "python",
   "nbconvert_exporter": "python",
   "pygments_lexer": "ipython3",
   "version": "3.11.11"
  }
 },
 "nbformat": 4,
 "nbformat_minor": 2
}
