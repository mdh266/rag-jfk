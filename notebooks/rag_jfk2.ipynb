{
 "cells": [
  {
   "cell_type": "markdown",
   "metadata": {},
   "source": [
    "# RAG On JFK Speeches: Part 2\n",
    "\n",
    "\n",
    "__[1. Introduction to RAG ](#first-bullet)__\n",
    "\n",
    "__[2. Retriving Documents With Vector (Semantic) Search](#second-bullet)__\n",
    "\n",
    "__[3. Building A RAG Pipeline](#third-bullet)__\n",
    "\n",
    "__[4. A CI/CD Pipeline For RAG](#fourth-bullet)__\n",
    "\n",
    "__[4. Deploying And Monitoring A RAG Application](#fifth-bullet)__\n",
    "\n",
    "__[5. Next Steps](#sixth-bullet)__\n"
   ]
  },
  {
   "cell_type": "markdown",
   "metadata": {},
   "source": [
    "\n",
    "### 1. Introduction to RAG <a class=\"anchor\" id=\"first-bullet\"></a>\n",
    "------------------------------\n",
    "\n",
    "In this post, I will continue from where my [last post](http://michael-harmon.com/blog/ragjfk1.html) left off. \n",
    "\n",
    "In my past post I discussed how to ingest President Kennedy's speeches into [Pinecone](https://www.pinecone.io/) vector database and perform semantic search both using Pinecone's API as well as using [Langchain](https://www.langchain.com/). I used Pinecone for a vector database since its clloud based, fully managed and of course has a free tier. In this post I will expand upon this work and build out a [Retrivial Augmented Generation (RAG)](https://en.wikipedia.org/wiki/Retrieval-augmented_generation) pipeline using Langchain to be able to answer questions on President Kennedy's speeches. Finally, I'll be deploying this out as a [Streamlit](https://streamlit.io/) app for users to try out! As part of this last step I'll build out a [continuous integration/continuous deployment (CI/CD)](https://en.wikipedia.org/wiki/CI/CD) pipeline. This last component is tricky as RAG systms, like any application that uses a [Large Language Model (LLM)](https://en.wikipedia.org/wiki/Large_language_model) are notorious for being difficult to test in a robust and reproducible fashion.\n",
    "\n",
    "You may ask whats the point of RAG pipelines, don't LLMs know all the answers? The answer is most LLMs take a long time to train and are often trained on data that is out of date when people begin to use it. In order to incorporate more recent data into our LLM we could use fine-tuning, but this can still be time confusing and costly. The other option is to use RAG, which takes your original question, embeds as a vector and \"retrieves\" documents from a vector database. These documents are the ones that are most semantically related to the question. The original question and the retrieved documents are passed into a prompt which is fed into the LLM. The prompt will contain you question and use the documents as \"context\" to generate an answer. The entire process is depicted below,\n",
    "\n",
    "\n",
    "<figure>\n",
    "    <img src=\"images/rag-pipeline.png\" alt>\n",
    "    <figcaption>Source: https://python.langchain.com/docs/tutorials/rag/</figcaption>\n",
    "</figure>\n",
    "\n",
    "\n",
    "I'll note that building a RAG pipe was actually much easier than I originally thought which is a testament to the power and simplicity of the Langchain framework! \n",
    "\n",
    "Let's get started! \n",
    "\n",
    "I'll start out with all the necessary imports:"
   ]
  },
  {
   "cell_type": "code",
   "execution_count": 35,
   "metadata": {},
   "outputs": [
    {
     "data": {
      "text/plain": [
       "True"
      ]
     },
     "execution_count": 35,
     "metadata": {},
     "output_type": "execute_result"
    }
   ],
   "source": [
    "# LangChain\n",
    "from langchain.chains.retrieval import create_retrieval_chain\n",
    "from langchain.chains.combine_documents import create_stuff_documents_chain\n",
    "from langchain_core.documents import Document\n",
    "from langchain_core.output_parsers import StrOutputParser\n",
    "from langchain_openai import OpenAIEmbeddings, ChatOpenAI\n",
    "from langchain_pinecone import PineconeVectorStore\n",
    "\n",
    "# Pinecone VectorDB\n",
    "from pinecone import Pinecone\n",
    "from pinecone import ServerlessSpec\n",
    "\n",
    "import os\n",
    "\n",
    "# API Keys\n",
    "from dotenv import load_dotenv\n",
    "load_dotenv()\n"
   ]
  },
  {
   "cell_type": "markdown",
   "metadata": {},
   "source": [
    "## 2. Retriving Documents With Vector (Semantic) Search <a class=\"anchor\" id=\"second-bullet\"></a>"
   ]
  },
  {
   "cell_type": "markdown",
   "metadata": {},
   "source": [
    "First thing we'll go over again retrivial with semantic search again. This is important as well dicuss a more useful way to interact with the Vector databse as a so-called \"retrivier\" which will allow it to be used as part of a RAG pipeline. \n",
    "\n",
    "The first thing I need to do is connect to the Pinecode database and make sure the index of vectors exists:"
   ]
  },
  {
   "cell_type": "code",
   "execution_count": 4,
   "metadata": {},
   "outputs": [
    {
     "data": {
      "text/plain": [
       "{'indexes': [{'deletion_protection': 'disabled',\n",
       "              'dimension': 1536,\n",
       "              'host': 'prez-speeches-2307pwa.svc.aped-4627-b74a.pinecone.io',\n",
       "              'metric': 'cosine',\n",
       "              'name': 'prez-speeches',\n",
       "              'spec': {'serverless': {'cloud': 'aws', 'region': 'us-east-1'}},\n",
       "              'status': {'ready': True, 'state': 'Ready'}}]}"
      ]
     },
     "execution_count": 4,
     "metadata": {},
     "output_type": "execute_result"
    }
   ],
   "source": [
    "index_name = \"prez-speeches\"\n",
    "\n",
    "pc = Pinecone(api_key=os.getenv(\"PINECONE_API_KEY\"))\n",
    "pc.list_indexes()"
   ]
  },
  {
   "cell_type": "markdown",
   "metadata": {},
   "source": [
    "Now that we have confirmed the index exists and is ready for querying we can create the initial connection to the Vector database using the Langchain [PineconeVectorStore](https://python.langchain.com/api_reference/pinecone/vectorstores/langchain_pinecone.vectorstores.PineconeVectorStore.html) class. Note that we ahve to pass the name of the index as well as the embeddings. It's important that we use the same embeddings here that we used to embedded the documents in the associated index."
   ]
  },
  {
   "cell_type": "code",
   "execution_count": null,
   "metadata": {},
   "outputs": [],
   "source": [
    "embedding = OpenAIEmbeddings(model='text-embedding-ada-002')\n",
    "\n",
    "vectordb = PineconeVectorStore(\n",
    "                    pinecone_api_key=os.getenv(\"PINECONE_API_KEY\"),\n",
    "                    embedding=embedding,\n",
    "                    index_name=index_name\n",
    ")"
   ]
  },
  {
   "cell_type": "markdown",
   "metadata": {},
   "source": [
    "Now we can perform vector similarity search using the [similiarity search](https://python.langchain.com/v0.1/docs/modules/model_io/prompts/example_selectors/similarity/) function in Langchain. Under the hook this creates a vector embedding of our query/question and finds the closest documents using the cosine similiarity score between the query embedding vector and the document embedding vectors. The closest documents are measured by the \"nearest neighbors\" algorithm. This process is depicted in image below,\n",
    "\n",
    "\n",
    "<figure>\n",
    "    <img src=\"images/vector-search.jpg\" alt>\n",
    "    <figcaption>Source: https://www.elastic.co/what-is/vector-search</figcaption>\n",
    "</figure>\n",
    "\n",
    "The one thing to note is that I use the async similarity search for funsies and return the top 5 documents."
   ]
  },
  {
   "cell_type": "code",
   "execution_count": null,
   "metadata": {},
   "outputs": [],
   "source": [
    "query = \"How did President Kennedy feel about the Berlin Wall?\"\n",
    "\n",
    "results = await vectordb.asimilarity_search(query=query, k=5)"
   ]
  },
  {
   "cell_type": "code",
   "execution_count": 39,
   "metadata": {},
   "outputs": [
    {
     "name": "stdout",
     "output_type": "stream",
     "text": [
      "Document ID: 64fc63a1-79fd-4b40-bf8c-09f0617b9f0f\n",
      "Document ID: 0fa5431f-a374-429e-a622-a1ed1c2b0a21\n",
      "Document ID: 121366d4-9f46-4f52-8e56-2523bf1c9c8f\n",
      "Document ID: 2da0bf3a-9adc-4dd0-a697-117bc3f0d8b9\n",
      "Document ID: 4df626ad-0034-45cb-8144-88a21576785d\n"
     ]
    }
   ],
   "source": [
    "for document in results:\n",
    "    print(\"Document ID:\", document.id)"
   ]
  },
  {
   "cell_type": "markdown",
   "metadata": {},
   "source": [
    "Now that we understand how to use the vector database to perform \"retrivial\" using similairty search, let's create a chain that will allow us to query the database and generate a response. This will form the basis of a so-called \"RAG Pipeline.\""
   ]
  },
  {
   "cell_type": "markdown",
   "metadata": {},
   "source": [
    "## 3. Building A RAG Pipeline <a class=\"anchor\" id=\"third-bullet\"></a>\n",
    "--------------------------------\n",
    "\n",
    "Now we can use the vector database as a [retriever](https://python.langchain.com/docs/integrations/retrievers/). A retriever is a special Langchain [Runnable](https://python.langchain.com/api_reference/core/runnables.html) object that takes in a string (query) and returns a list of [Documents](https://python.langchain.com/api_reference/core/documents/langchain_core.documents.base.Document.html). This is depicted below,\n",
    "\n",
    "<figure>\n",
    "    <img src=\"images/retriever.png\" alt>\n",
    "    <figcaption>Source: https://python.langchain.com/docs/concepts/retrievers/</figcaption>\n",
    "</figure>\n",
    "\n",
    "\n",
    "We can see this in action,"
   ]
  },
  {
   "cell_type": "code",
   "execution_count": 41,
   "metadata": {},
   "outputs": [
    {
     "name": "stdout",
     "output_type": "stream",
     "text": [
      "<class 'langchain_core.vectorstores.base.VectorStoreRetriever'>\n"
     ]
    }
   ],
   "source": [
    "retriever = vectordb.as_retriever()\n",
    "print(type(retriever))"
   ]
  },
  {
   "cell_type": "code",
   "execution_count": 44,
   "metadata": {},
   "outputs": [
    {
     "name": "stdout",
     "output_type": "stream",
     "text": [
      "Document ID: 64fc63a1-79fd-4b40-bf8c-09f0617b9f0f\n",
      "Document ID: 0fa5431f-a374-429e-a622-a1ed1c2b0a21\n",
      "Document ID: 121366d4-9f46-4f52-8e56-2523bf1c9c8f\n",
      "Document ID: 2da0bf3a-9adc-4dd0-a697-117bc3f0d8b9\n"
     ]
    }
   ],
   "source": [
    "documents = retriever.invoke(input=question)\n",
    "\n",
    "for document in documents:\n",
    "    print(\"Document ID:\", document.id)"
   ]
  },
  {
   "cell_type": "markdown",
   "metadata": {},
   "source": [
    "Next let's talk about our prompt for rag. I used the classic [rlm/rag-prompt](https://smith.langchain.com/hub/rlm/rag-prompt) from [LangSmith](https://www.langchain.com/langsmith). I couldn't use the original one as the function [create_retrieval_chain](https://python.langchain.com/api_reference/langchain/chains/langchain.chains.retrieval.create_retrieval_chain.html) expects the human input to be a variable `input` while the original prompt has the input be `question`. The whole prompt is,"
   ]
  },
  {
   "cell_type": "code",
   "execution_count": 45,
   "metadata": {},
   "outputs": [],
   "source": [
    "from langchain.prompts import PromptTemplate\n",
    "\n",
    "template = \"\"\"You are an assistant for question-answering tasks. Use the following pieces of retrieved context to answer the question. If you don't know the answer, just say that you don't know. Use three sentences maximum and keep the answer concise.\n",
    "Question: {input} \n",
    "Context: {context} \n",
    "Answer:\n",
    "\"\"\"\n",
    "\n",
    "prompt = PromptTemplate(\n",
    "    template=template,\n",
    "    input_variables=[\"input\", \"context\"],\n",
    ")"
   ]
  },
  {
   "cell_type": "markdown",
   "metadata": {},
   "source": [
    "I can now give an example of how to use the prompt with the documents retrieved from Pinecone and the question from the user."
   ]
  },
  {
   "cell_type": "code",
   "execution_count": 47,
   "metadata": {},
   "outputs": [
    {
     "name": "stdout",
     "output_type": "stream",
     "text": [
      "You are an assistant for question-answering tasks. Use the following pieces of retrieved context to answer the question. If you don't know the answer, just say that you don't know. Use three sentences maximum and keep the answer concise.\n",
      "Question: How did President Kennedy feel about the Berlin Wall? \n",
      "Context: ['64fc63a1-79fd-4b40-bf8c-09f0617b9f0f', '0fa5431f-a374-429e-a622-a1ed1c2b0a21', '121366d4-9f46-4f52-8e56-2523bf1c9c8f', '2da0bf3a-9adc-4dd0-a697-117bc3f0d8b9'] \n",
      "Answer:\n",
      "\n"
     ]
    }
   ],
   "source": [
    "print(\n",
    "    prompt.invoke({\n",
    "        \"input\": question,\n",
    "        \"context\": [document.id for document in documents]\n",
    "    }).text\n",
    ")"
   ]
  },
  {
   "cell_type": "markdown",
   "metadata": {},
   "source": [
    "Note I only used the document ids as context, since print them would be a lot of text for the screen, however, we would pass the actual documents to the LLM. We'll use this more later.\n",
    "\n",
    "Now we'll move on to create our LLM Chat Model as this will be needed to write the response from the context and query into `Answer` above."
   ]
  },
  {
   "cell_type": "code",
   "execution_count": 26,
   "metadata": {},
   "outputs": [],
   "source": [
    "llm = ChatOpenAI(model=\"gpt-4o-mini\", temperature=0)"
   ]
  },
  {
   "cell_type": "markdown",
   "metadata": {},
   "source": [
    "The LLM will be used as the generative part RAG pipeline in a function called [create_stuff_documents_chain](https://python.langchain.com/api_reference/langchain/chains/langchain.chains.combine_documents.stuff.create_stuff_documents_chain.html). We'll call this the `generative_chain`:"
   ]
  },
  {
   "cell_type": "code",
   "execution_count": 27,
   "metadata": {},
   "outputs": [],
   "source": [
    "generate_chain = create_stuff_documents_chain(llm=llm, prompt=prompt)"
   ]
  },
  {
   "cell_type": "markdown",
   "metadata": {},
   "source": [
    "We can see what makes up this composite runnable and the components of the chain:"
   ]
  },
  {
   "cell_type": "code",
   "execution_count": 258,
   "metadata": {},
   "outputs": [
    {
     "name": "stdout",
     "output_type": "stream",
     "text": [
      "bound=RunnableBinding(bound=RunnableAssign(mapper={\n",
      "  context: RunnableLambda(format_docs)\n",
      "}), kwargs={}, config={'run_name': 'format_inputs'}, config_factories=[])\n",
      "| PromptTemplate(input_variables=['context', 'input'], input_types={}, partial_variables={}, template=\"You are an assistant for question-answering tasks. Use the following pieces of retrieved context to answer the question. If you don't know the answer, just say that you don't know. Use three sentences maximum and keep the answer concise.\\nQuestion: {input} \\nContext: {context} \\nAnswer:\\n\")\n",
      "| ChatOpenAI(client=<openai.resources.chat.completions.completions.Completions object at 0x168f11890>, async_client=<openai.resources.chat.completions.completions.AsyncCompletions object at 0x168a2e010>, root_client=<openai.OpenAI object at 0x169946590>, root_async_client=<openai.AsyncOpenAI object at 0x168f13310>, model_name='gpt-4o-mini', temperature=0.0, model_kwargs={}, openai_api_key=SecretStr('**********'))\n",
      "| StrOutputParser() kwargs={} config={'run_name': 'stuff_documents_chain'} config_factories=[]\n"
     ]
    }
   ],
   "source": [
    "print(stuff_documents_chain)"
   ]
  },
  {
   "cell_type": "markdown",
   "metadata": {},
   "source": [
    "Now we can can call it using the invoke function and see the answer. We can see that the chain takes in the prompt, passes to the LLM and then the String outpur parser, so we expect to obtain a string as a return type."
   ]
  },
  {
   "cell_type": "code",
   "execution_count": 48,
   "metadata": {},
   "outputs": [],
   "source": [
    "answer = generate_chain.invoke(\n",
    "       {\n",
    "        'context': documents,\n",
    "        \"input\": question\n",
    "      }\n",
    ")"
   ]
  },
  {
   "cell_type": "code",
   "execution_count": 30,
   "metadata": {},
   "outputs": [
    {
     "name": "stdout",
     "output_type": "stream",
     "text": [
      "President Kennedy viewed the Berlin Wall as a significant symbol of the failures of the Communist system and an offense against humanity, as it separated families and divided people. He expressed pride in the resilience of West Berlin and emphasized the importance of freedom and the right to make choices. Kennedy's speeches reflected a commitment to supporting the people of Berlin and a broader struggle for freedom worldwide.\n"
     ]
    }
   ],
   "source": [
    "print(answer)"
   ]
  },
  {
   "cell_type": "markdown",
   "metadata": {},
   "source": [
    "Now we can put this all together as a RAG chain by passing the Pinecone Vector database retriever and the generative chain. The retriever will take in the input question and perform similarity search and return the documents. These documents along with the input question will be passed to the `generate_chain` to return the output. The full RAG chain is below:"
   ]
  },
  {
   "cell_type": "code",
   "execution_count": 31,
   "metadata": {},
   "outputs": [],
   "source": [
    "rag_chain = create_retrieval_chain(\n",
    "                    retriever=retriever, \n",
    "                    combine_docs_chain=generate_chain)"
   ]
  },
  {
   "cell_type": "markdown",
   "metadata": {},
   "source": [
    "Now we can see prompts:"
   ]
  },
  {
   "cell_type": "code",
   "execution_count": 32,
   "metadata": {},
   "outputs": [
    {
     "data": {
      "text/plain": [
       "[PromptTemplate(input_variables=['page_content'], input_types={}, partial_variables={}, template='{page_content}'),\n",
       " PromptTemplate(input_variables=['context', 'input'], input_types={}, partial_variables={}, template=\"You are an assistant for question-answering tasks. Use the following pieces of retrieved context to answer the question. If you don't know the answer, just say that you don't know. Use three sentences maximum and keep the answer concise.\\nQuestion: {input} \\nContext: {context} \\nAnswer:\\n\")]"
      ]
     },
     "execution_count": 32,
     "metadata": {},
     "output_type": "execute_result"
    }
   ],
   "source": [
    "rag_chain.get_prompts()"
   ]
  },
  {
   "cell_type": "markdown",
   "metadata": {},
   "source": [
    "Now we can test this out,"
   ]
  },
  {
   "cell_type": "code",
   "execution_count": null,
   "metadata": {},
   "outputs": [],
   "source": [
    "response = rag_chain.invoke({\"input\": query})"
   ]
  },
  {
   "cell_type": "code",
   "execution_count": 34,
   "metadata": {},
   "outputs": [
    {
     "data": {
      "text/plain": [
       "{'input': 'How did President Kennedy feel about the Berlin Wall?',\n",
       " 'context': [Document(id='64fc63a1-79fd-4b40-bf8c-09f0617b9f0f', metadata={'filename': 'berlin-crisis-19610725', 'seq_num': 1.0, 'source': 'gs://prezkennedyspeches/berlin-crisis-19610725.json', 'title': 'Radio and Television Report to the American People on the Berlin Crisis, July 25, 1961', 'url': 'https://www.jfklibrary.org//archives/other-resources/john-f-kennedy-speeches/berlin-crisis-19610725'}, page_content='Listen to the speech. \\xa0\\xa0 View related documents. \\nPresident John F. Kennedy\\nThe White House\\nJuly 25, 1961\\nGood evening:\\nSeven weeks ago tonight I returned from Europe to report on my meeting with Premier Khrushchev and the others. His grim warnings about the future of the world, his aide memoire on Berlin, his subsequent speeches and threats which he and his agents have launched, and the increase in the Soviet military budget that he has announced, have all prompted a series of decisions by the Administration and a series of consultations with the members of the NATO organization. In Berlin, as you recall, he intends to bring to an end, through a stroke of the pen, first our legal rights to be in West Berlin --and secondly our ability to make good on our commitment to the two million free people of that city. That we cannot permit.\\nWe are clear about what must be done--and we intend to do it. I want to talk frankly with you tonight about the first steps that we shall take. These actions will require sacrifice on the part of many of our citizens. More will be required in the future. They will require, from all of us, courage and perseverance in the years to come. But if we and our allies act out of strength and unity of purpose--with calm determination and steady nerves--using restraint in our words as well as our weapons--I am hopeful that both peace and freedom will be sustained.\\nThe immediate threat to free men is in West Berlin. But that isolated outpost is not an isolated problem. The threat is worldwide. Our effort must be equally wide and strong, and not be obsessed by any single manufactured crisis. We face a challenge in Berlin, but there is also a challenge in Southeast Asia, where the borders are less guarded, the enemy harder to find, and the dangers of communism less apparent to those who have so little. We face a challenge in our own hemisphere, and indeed wherever else the freedom of human beings is at stake.'),\n",
       "  Document(id='0fa5431f-a374-429e-a622-a1ed1c2b0a21', metadata={'filename': 'berlin-w-germany-rudolph-wilde-platz-19630626', 'seq_num': 1.0, 'source': 'gs://prezkennedyspeches/berlin-w-germany-rudolph-wilde-platz-19630626.json', 'title': 'Remarks of President John F. Kennedy at the Rudolph Wilde Platz, Berlin, June 26, 1963', 'url': 'https://www.jfklibrary.org//archives/other-resources/john-f-kennedy-speeches/berlin-w-germany-rudolph-wilde-platz-19630626'}, page_content='Listen to speech. \\xa0\\xa0 View related documents. \\nPresident John F. Kennedy\\nWest Berlin\\nJune 26, 1963\\n[This version is published in the Public Papers of the Presidents: John F. Kennedy, 1963. Both the text and the audio versions omit the words of the German translator. The audio file was edited by the White House Signal Agency (WHSA) shortly after the speech was recorded. The WHSA was charged with recording only the words of the President. The Kennedy Library has an audiotape of a network broadcast of the full speech, with the translator\\'s words, and a journalist\\'s commentary. Because of copyright restrictions, it is only available for listening at the Library.]\\nI am proud to come to this city as the guest of your distinguished Mayor, who has symbolized throughout the world the fighting spirit of West Berlin. And I am proud to visit the Federal Republic with your distinguished Chancellor who for so many years has committed Germany to democracy and freedom and progress, and to come here in the company of my fellow American, General Clay, who has been in this city during its great moments of crisis and will come again if ever needed.\\nTwo thousand years ago the proudest boast was \"civis Romanus sum.\" Today, in the world of freedom, the proudest boast is \"Ich bin ein Berliner.\"\\nI appreciate my interpreter translating my German!\\nThere are many people in the world who really don\\'t understand, or say they don\\'t, what is the great issue between the free world and the Communist world. Let them come to Berlin. There are some who say that communism is the wave of the future. Let them come to Berlin. And there are some who say in Europe and elsewhere we can work with the Communists. Let them come to Berlin. And there are even a few who say that it is true that communism is an evil system, but it permits us to make economic progress. Lass\\' sie nach Berlin kommen. Let them come to Berlin.'),\n",
       "  Document(id='121366d4-9f46-4f52-8e56-2523bf1c9c8f', metadata={'filename': 'berlin-w-germany-rudolph-wilde-platz-19630626', 'seq_num': 1.0, 'source': 'gs://prezkennedyspeches/berlin-w-germany-rudolph-wilde-platz-19630626.json', 'title': 'Remarks of President John F. Kennedy at the Rudolph Wilde Platz, Berlin, June 26, 1963', 'url': 'https://www.jfklibrary.org//archives/other-resources/john-f-kennedy-speeches/berlin-w-germany-rudolph-wilde-platz-19630626'}, page_content='Freedom has many difficulties and democracy is not perfect, but we have never had to put a wall up to keep our people in, to prevent them from leaving us. I want to say, on behalf of my countrymen, who live many miles away on the other side of the Atlantic, who are far distant from you, that they take the greatest pride that they have been able to share with you, even from a distance, the story of the last 18 years. I know of no town, no city, that has been besieged for 18 years that still lives with the vitality and the force, and the hope and the determination of the city of West Berlin. While the wall is the most obvious and vivid demonstration of the failures of the Communist system, for all the world to see, we take no satisfaction in it, for it is, as your Mayor has said, an offense not only against history but an offense against humanity, separating families, dividing husbands and wives and brothers and sisters, and dividing a people who wish to be joined together.\\nWhat is true of this city is true of Germany--real, lasting peace in Europe can never be assured as long as one German out of four is denied the elementary right of free men, and that is to make a free choice. In 18 years of peace and good faith, this generation of Germans has earned the right to be free, including the right to unite their families and their nation in lasting peace, with good will to all people. You live in a defended island of freedom, but your life is part of the main. So let me ask you as I close, to lift your eyes beyond the dangers of today, to the hopes of tomorrow, beyond the freedom merely of this city of Berlin, or your country of Germany, to the advance of freedom everywhere, beyond the wall to the day of peace with justice, beyond yourselves and ourselves to all mankind.'),\n",
       "  Document(id='2da0bf3a-9adc-4dd0-a697-117bc3f0d8b9', metadata={'filename': 'american-society-of-newspaper-editors-19610420', 'seq_num': 1.0, 'source': 'gs://prezkennedyspeches/american-society-of-newspaper-editors-19610420.json', 'title': 'Address before the American Society of Newspaper Editors, Washington, D.C., April 20, 1961', 'url': 'https://www.jfklibrary.org//archives/other-resources/john-f-kennedy-speeches/american-society-of-newspaper-editors-19610420'}, page_content='Listen to the speech.\\xa0 \\xa0 View related documents. \\nPresident John F. Kennedy\\nStatler Hilton Hotel, Washington, D.C.\\nApril 20, 1961\\nMr. Catledge, members of the American Society of Newspaper Editors, ladies and gentlemen:\\nThe President of a great democracy such as ours, and the editors of great newspapers such as yours, owe a common obligation to the people: an obligation to present the facts, to present them with candor, and to present them in perspective. It is with that obligation in mind that I have decided in the last 24 hours to discuss briefly at this time the recent events in Cuba.\\nOn that unhappy island, as in so many other arenas of the contest for freedom, the news has grown worse instead of better. I have emphasized before that this was a struggle of Cuban patriots against a Cuban dictator. While we could not be expected to hide our sympathies, we made it repeatedly clear that the armed forces of this country would not intervene in any way.\\nAny unilateral American intervention, in the absence of an external attack upon ourselves or an ally, would have been contrary to our traditions and to our international obligations. But let the record show that our restraint is not inexhaustible. Should it ever appear that the inter-American doctrine of non-interference merely conceals or excuses a policy of nonaction-if the nations of this Hemisphere should fail to meet their commitments against outside Communist penetration-then I want it clearly understood that this Government will not hesitate in meeting its primary obligations which are to the security of our Nation!')],\n",
       " 'answer': \"President Kennedy viewed the Berlin Wall as a significant symbol of the failures of the Communist system, stating that it was an offense against humanity that separated families and divided people. He expressed pride in the resilience of West Berlin and emphasized the importance of freedom and the right to make free choices. Kennedy's speeches reflected a commitment to supporting the people of Berlin and a broader struggle for freedom worldwide.\"}"
      ]
     },
     "execution_count": 34,
     "metadata": {},
     "output_type": "execute_result"
    }
   ],
   "source": [
    "response"
   ]
  },
  {
   "cell_type": "markdown",
   "metadata": {},
   "source": [
    "The response will be a dictionary that contains the input question and the answer generated by the model. It also includes the context orwhich are all documents that were the most semantically related to the question and passed to the LLM to use.\n",
    "\n",
    "We can see the associated data with context reference documents:"
   ]
  },
  {
   "cell_type": "code",
   "execution_count": null,
   "metadata": {},
   "outputs": [
    {
     "data": {
      "text/plain": [
       "[('Radio and Television Report to the American People on the Berlin Crisis, July 25, 1961',\n",
       "  'Listen to the speech. \\xa0\\xa0 View related documents. \\nPresident John F. Kennedy\\nThe White House\\nJuly 25, 1961\\nGood evening:\\nSeven weeks ago tonight I returned from Europe to report on my meeting with Premier Khrushchev and the others. His grim warnings about the future of the world, his aide memoire on Berlin, his subsequent speeches and threats which he and his agents have launched, and the increase in the Soviet military budget that he has announced, have all prompted a series of decisions by the Administration and a series of consultations with the members of the NATO organization. In Berlin, as you recall, he intends to bring to an end, through a stroke of the pen, first our legal rights to be in West Berlin --and secondly our ability to make good on our commitment to the two million free people of that city. That we cannot permit.\\nWe are clear about what must be done--and we intend to do it. I want to talk frankly with you tonight about the first steps that we shall take. These actions will require sacrifice on the part of many of our citizens. More will be required in the future. They will require, from all of us, courage and perseverance in the years to come. But if we and our allies act out of strength and unity of purpose--with calm determination and steady nerves--using restraint in our words as well as our weapons--I am hopeful that both peace and freedom will be sustained.\\nThe immediate threat to free men is in West Berlin. But that isolated outpost is not an isolated problem. The threat is worldwide. Our effort must be equally wide and strong, and not be obsessed by any single manufactured crisis. We face a challenge in Berlin, but there is also a challenge in Southeast Asia, where the borders are less guarded, the enemy harder to find, and the dangers of communism less apparent to those who have so little. We face a challenge in our own hemisphere, and indeed wherever else the freedom of human beings is at stake.',\n",
       "  'https://www.jfklibrary.org//archives/other-resources/john-f-kennedy-speeches/berlin-crisis-19610725'),\n",
       " ('Remarks of President John F. Kennedy at the Rudolph Wilde Platz, Berlin, June 26, 1963',\n",
       "  'Listen to speech. \\xa0\\xa0 View related documents. \\nPresident John F. Kennedy\\nWest Berlin\\nJune 26, 1963\\n[This version is published in the Public Papers of the Presidents: John F. Kennedy, 1963. Both the text and the audio versions omit the words of the German translator. The audio file was edited by the White House Signal Agency (WHSA) shortly after the speech was recorded. The WHSA was charged with recording only the words of the President. The Kennedy Library has an audiotape of a network broadcast of the full speech, with the translator\\'s words, and a journalist\\'s commentary. Because of copyright restrictions, it is only available for listening at the Library.]\\nI am proud to come to this city as the guest of your distinguished Mayor, who has symbolized throughout the world the fighting spirit of West Berlin. And I am proud to visit the Federal Republic with your distinguished Chancellor who for so many years has committed Germany to democracy and freedom and progress, and to come here in the company of my fellow American, General Clay, who has been in this city during its great moments of crisis and will come again if ever needed.\\nTwo thousand years ago the proudest boast was \"civis Romanus sum.\" Today, in the world of freedom, the proudest boast is \"Ich bin ein Berliner.\"\\nI appreciate my interpreter translating my German!\\nThere are many people in the world who really don\\'t understand, or say they don\\'t, what is the great issue between the free world and the Communist world. Let them come to Berlin. There are some who say that communism is the wave of the future. Let them come to Berlin. And there are some who say in Europe and elsewhere we can work with the Communists. Let them come to Berlin. And there are even a few who say that it is true that communism is an evil system, but it permits us to make economic progress. Lass\\' sie nach Berlin kommen. Let them come to Berlin.',\n",
       "  'https://www.jfklibrary.org//archives/other-resources/john-f-kennedy-speeches/berlin-w-germany-rudolph-wilde-platz-19630626'),\n",
       " ('Remarks of President John F. Kennedy at the Rudolph Wilde Platz, Berlin, June 26, 1963',\n",
       "  'Freedom has many difficulties and democracy is not perfect, but we have never had to put a wall up to keep our people in, to prevent them from leaving us. I want to say, on behalf of my countrymen, who live many miles away on the other side of the Atlantic, who are far distant from you, that they take the greatest pride that they have been able to share with you, even from a distance, the story of the last 18 years. I know of no town, no city, that has been besieged for 18 years that still lives with the vitality and the force, and the hope and the determination of the city of West Berlin. While the wall is the most obvious and vivid demonstration of the failures of the Communist system, for all the world to see, we take no satisfaction in it, for it is, as your Mayor has said, an offense not only against history but an offense against humanity, separating families, dividing husbands and wives and brothers and sisters, and dividing a people who wish to be joined together.\\nWhat is true of this city is true of Germany--real, lasting peace in Europe can never be assured as long as one German out of four is denied the elementary right of free men, and that is to make a free choice. In 18 years of peace and good faith, this generation of Germans has earned the right to be free, including the right to unite their families and their nation in lasting peace, with good will to all people. You live in a defended island of freedom, but your life is part of the main. So let me ask you as I close, to lift your eyes beyond the dangers of today, to the hopes of tomorrow, beyond the freedom merely of this city of Berlin, or your country of Germany, to the advance of freedom everywhere, beyond the wall to the day of peace with justice, beyond yourselves and ourselves to all mankind.',\n",
       "  'https://www.jfklibrary.org//archives/other-resources/john-f-kennedy-speeches/berlin-w-germany-rudolph-wilde-platz-19630626'),\n",
       " ('Address before the American Society of Newspaper Editors, Washington, D.C., April 20, 1961',\n",
       "  'Listen to the speech.\\xa0 \\xa0 View related documents. \\nPresident John F. Kennedy\\nStatler Hilton Hotel, Washington, D.C.\\nApril 20, 1961\\nMr. Catledge, members of the American Society of Newspaper Editors, ladies and gentlemen:\\nThe President of a great democracy such as ours, and the editors of great newspapers such as yours, owe a common obligation to the people: an obligation to present the facts, to present them with candor, and to present them in perspective. It is with that obligation in mind that I have decided in the last 24 hours to discuss briefly at this time the recent events in Cuba.\\nOn that unhappy island, as in so many other arenas of the contest for freedom, the news has grown worse instead of better. I have emphasized before that this was a struggle of Cuban patriots against a Cuban dictator. While we could not be expected to hide our sympathies, we made it repeatedly clear that the armed forces of this country would not intervene in any way.\\nAny unilateral American intervention, in the absence of an external attack upon ourselves or an ally, would have been contrary to our traditions and to our international obligations. But let the record show that our restraint is not inexhaustible. Should it ever appear that the inter-American doctrine of non-interference merely conceals or excuses a policy of nonaction-if the nations of this Hemisphere should fail to meet their commitments against outside Communist penetration-then I want it clearly understood that this Government will not hesitate in meeting its primary obligations which are to the security of our Nation!',\n",
       "  'https://www.jfklibrary.org//archives/other-resources/john-f-kennedy-speeches/american-society-of-newspaper-editors-19610420')]"
      ]
     },
     "execution_count": 249,
     "metadata": {},
     "output_type": "execute_result"
    }
   ],
   "source": [
    "references = [(doc.metadata[\"title\"],\n",
    "               doc.page_content, doc.metadata[\"url\"]) \n",
    "               for doc in response['context']]\n",
    "\n",
    "references"
   ]
  },
  {
   "cell_type": "markdown",
   "metadata": {},
   "source": [
    "## 4. A CI/CD Pipeline For RAG <a class=\"anchor\" id=\"fourth-bullet\"></a>\n",
    "-------------------"
   ]
  },
  {
   "cell_type": "markdown",
   "metadata": {},
   "source": [
    "## 5. Deploying A RAG Application <a class=\"anchor\" id=\"fifth-bullet\"></a>\n",
    "-------------------\n",
    "\n",
    "## 6. Conclusions  <a class=\"anchor\" id=\"sixth-bullet\"></a>\n",
    "-------------"
   ]
  },
  {
   "cell_type": "markdown",
   "metadata": {},
   "source": []
  },
  {
   "cell_type": "code",
   "execution_count": null,
   "metadata": {},
   "outputs": [],
   "source": []
  }
 ],
 "metadata": {
  "kernelspec": {
   "display_name": "llm_env",
   "language": "python",
   "name": "python3"
  },
  "language_info": {
   "codemirror_mode": {
    "name": "ipython",
    "version": 3
   },
   "file_extension": ".py",
   "mimetype": "text/x-python",
   "name": "python",
   "nbconvert_exporter": "python",
   "pygments_lexer": "ipython3",
   "version": "3.11.0"
  }
 },
 "nbformat": 4,
 "nbformat_minor": 2
}
